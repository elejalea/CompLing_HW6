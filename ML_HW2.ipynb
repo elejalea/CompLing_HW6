{
  "nbformat": 4,
  "nbformat_minor": 0,
  "metadata": {
    "colab": {
      "name": "ML_HW2.ipynb",
      "provenance": [],
      "authorship_tag": "ABX9TyNr+kKR7eUjD4brpkuouCs4"
    },
    "kernelspec": {
      "name": "python3",
      "display_name": "Python 3"
    }
  },
  "cells": [
    {
      "cell_type": "code",
      "metadata": {
        "id": "BN70AVb07_e_",
        "colab_type": "code",
        "colab": {}
      },
      "source": [
        "import os\n",
        "import numpy as np\n",
        "import pandas as pd\n",
        "import seaborn as sns\n",
        "from sklearn import datasets\n",
        "from matplotlib import pyplot\n",
        "import matplotlib.pyplot as plt\n",
        "from sklearn.tree import DecisionTreeClassifier\n",
        "from sklearn.neighbors import KNeighborsClassifier\n",
        "from sklearn.metrics import roc_auc_score, roc_curve\n",
        "from sklearn.model_selection import train_test_split\n",
        "from sklearn.feature_extraction.text import TfidfVectorizer"
      ],
      "execution_count": 0,
      "outputs": []
    },
    {
      "cell_type": "code",
      "metadata": {
        "id": "K9Evo6Ia9iaP",
        "colab_type": "code",
        "colab": {}
      },
      "source": [
        "import tarfile\n",
        "tar = tarfile.open(\"aclImdb_v1.tar.gz\", \"r:gz\")\n",
        "for member in tar.getmembers():\n",
        "     f = tar.extractfile(member)\n",
        "     if f is not None:\n",
        "         content = f.read()"
      ],
      "execution_count": 0,
      "outputs": []
    },
    {
      "cell_type": "code",
      "metadata": {
        "id": "hdsVpt39PiM-",
        "colab_type": "code",
        "colab": {}
      },
      "source": [
        "tar.extractall()"
      ],
      "execution_count": 0,
      "outputs": []
    },
    {
      "cell_type": "code",
      "metadata": {
        "id": "Feynrl53WvKI",
        "colab_type": "code",
        "colab": {}
      },
      "source": [
        "def sklearn_metrics(true, predicted):\n",
        "    ac = accuracy_score(true, predicted)\n",
        "    p = precision_score(true, predicted, average='binary')\n",
        "    r = recall_score(true, predicted, average='binary')\n",
        "    f1 = f1_score(true, predicted, average='binary')\n",
        "    print('Accuracy = {0:1.4f}'.format(ac))\n",
        "    print('F1 = {0:1.4f}, Precision = {1:1.4f}, Recall = {2:1.4f}'.format(f1, p, r))"
      ],
      "execution_count": 0,
      "outputs": []
    },
    {
      "cell_type": "code",
      "metadata": {
        "id": "Selxf54OVquu",
        "colab_type": "code",
        "colab": {}
      },
      "source": [
        "train = datasets.load_files('aclImdb/train/', categories = ['neg', 'pos'], random_state = 42)\n",
        "test = datasets.load_files('aclImdb/test/', random_state = 42)"
      ],
      "execution_count": 0,
      "outputs": []
    },
    {
      "cell_type": "code",
      "metadata": {
        "id": "E0_ZFDvdV7Iw",
        "colab_type": "code",
        "colab": {}
      },
      "source": [
        "tfidf_vect = TfidfVectorizer(max_features=100000, min_df=5, max_df=0.4, ngram_range=(1,2))\n",
        "X_train = tfidf_vect.fit_transform(train.data)\n",
        "X_test = tfidf_vect.transform(test.data)"
      ],
      "execution_count": 0,
      "outputs": []
    },
    {
      "cell_type": "markdown",
      "metadata": {
        "id": "AftNX8QbWRjs",
        "colab_type": "text"
      },
      "source": [
        "**Logistic regression**"
      ]
    },
    {
      "cell_type": "code",
      "metadata": {
        "id": "4Fy71YdmWVVH",
        "colab_type": "code",
        "colab": {}
      },
      "source": [
        "clf1 = LogisticRegression().fit(X_train, train.target)"
      ],
      "execution_count": 0,
      "outputs": []
    },
    {
      "cell_type": "code",
      "metadata": {
        "id": "UiCT8HPKk4WU",
        "colab_type": "code",
        "colab": {}
      },
      "source": [
        "predicted_log = clf1.predict(X_test)"
      ],
      "execution_count": 0,
      "outputs": []
    },
    {
      "cell_type": "code",
      "metadata": {
        "id": "PIaZntbEWDm1",
        "colab_type": "code",
        "colab": {
          "base_uri": "https://localhost:8080/",
          "height": 53
        },
        "outputId": "7c29e051-1199-4dcd-ecb6-79daccf8c804"
      },
      "source": [
        "sklearn_metrics(test.target, predicted_log)"
      ],
      "execution_count": 134,
      "outputs": [
        {
          "output_type": "stream",
          "text": [
            "Accuracy = 0.8965\n",
            "F1 = 0.8968, Precision = 0.8939, Recall = 0.8998\n"
          ],
          "name": "stdout"
        }
      ]
    },
    {
      "cell_type": "code",
      "metadata": {
        "id": "1YPWLLGGYpYd",
        "colab_type": "code",
        "colab": {
          "base_uri": "https://localhost:8080/",
          "height": 295
        },
        "outputId": "ad85f297-5e62-4c0a-b694-f81e64a7640d"
      },
      "source": [
        "sns.heatmap(data=confusion_matrix(test.target, predicted_log), annot=True, fmt=\"d\", cbar=False)\n",
        "plt.title(\"Confusion matrix\")\n",
        "plt.xlabel('Predicted')\n",
        "plt.ylabel('True')\n",
        "plt.show()"
      ],
      "execution_count": 97,
      "outputs": [
        {
          "output_type": "display_data",
          "data": {
            "image/png": "[encoded data removed]",
            "text/plain": [
              "<Figure size 432x288 with 1 Axes>"
            ]
          },
          "metadata": {
            "tags": []
          }
        }
      ]
    },
    {
      "cell_type": "code",
      "metadata": {
        "id": "BNTyRSLsZRbc",
        "colab_type": "code",
        "colab": {
          "base_uri": "https://localhost:8080/",
          "height": 279
        },
        "outputId": "b094f5f9-0cd5-454e-a032-19c1cde4e89f"
      },
      "source": [
        "y_true = test.target\n",
        "y_predicted = predicted_log\n",
        "fpr, tpr, _ = roc_curve(y_true, y_predicted)\n",
        "pyplot.plot(fpr, tpr, marker='.', label='Test')\n",
        "# axis labels\n",
        "pyplot.xlabel('False Positive Rate')\n",
        "pyplot.ylabel('True Positive Rate')\n",
        "# show the legend\n",
        "pyplot.legend()\n",
        "# show the plot\n",
        "pyplot.show()"
      ],
      "execution_count": 92,
      "outputs": [
        {
          "output_type": "display_data",
          "data": {
            "image/png": "[encoded data removed]",
            "text/plain": [
              "<Figure size 432x288 with 1 Axes>"
            ]
          },
          "metadata": {
            "tags": []
          }
        }
      ]
    },
    {
      "cell_type": "code",
      "metadata": {
        "id": "J_MrtW2rZX-E",
        "colab_type": "code",
        "colab": {
          "base_uri": "https://localhost:8080/",
          "height": 35
        },
        "outputId": "916bd967-4d64-4b31-a7e3-428c9ab1294f"
      },
      "source": [
        "print(roc_auc_score(y_true, y_predicted))"
      ],
      "execution_count": 87,
      "outputs": [
        {
          "output_type": "stream",
          "text": [
            "0.89648\n"
          ],
          "name": "stdout"
        }
      ]
    },
    {
      "cell_type": "markdown",
      "metadata": {
        "id": "j3G4-A3sTUBG",
        "colab_type": "text"
      },
      "source": [
        "\n",
        "**KNeighborsClassifier**"
      ]
    },
    {
      "cell_type": "code",
      "metadata": {
        "id": "UbHpPkHtTbQV",
        "colab_type": "code",
        "colab": {}
      },
      "source": [
        "clf2 = KNeighborsClassifier().fit(X_train, train.target)"
      ],
      "execution_count": 0,
      "outputs": []
    },
    {
      "cell_type": "code",
      "metadata": {
        "id": "1Yf8rmgXTc_J",
        "colab_type": "code",
        "colab": {}
      },
      "source": [
        "predicted_kn = clf2.predict(X_test)"
      ],
      "execution_count": 0,
      "outputs": []
    },
    {
      "cell_type": "code",
      "metadata": {
        "id": "k0_IWX52bCqw",
        "colab_type": "code",
        "colab": {
          "base_uri": "https://localhost:8080/",
          "height": 53
        },
        "outputId": "f4fd4fc2-6b96-477e-b4c9-2927c057d6b3"
      },
      "source": [
        "sklearn_metrics(test.target, predicted_kn)"
      ],
      "execution_count": 131,
      "outputs": [
        {
          "output_type": "stream",
          "text": [
            "Accuracy = 0.6896\n",
            "F1 = 0.6901, Precision = 0.6888, Recall = 0.6914\n"
          ],
          "name": "stdout"
        }
      ]
    },
    {
      "cell_type": "code",
      "metadata": {
        "id": "qA5-UwbPbjOy",
        "colab_type": "code",
        "colab": {
          "base_uri": "https://localhost:8080/",
          "height": 295
        },
        "outputId": "961fe0f8-a461-4647-f0ec-38b4cd886159"
      },
      "source": [
        "sns.heatmap(data=confusion_matrix(test.target, predicted_kn), annot=True, fmt=\"d\", cbar=False)\n",
        "plt.title(\"Confusion matrix\")\n",
        "plt.xlabel('Predicted')\n",
        "plt.ylabel('True')\n",
        "plt.show()"
      ],
      "execution_count": 99,
      "outputs": [
        {
          "output_type": "display_data",
          "data": {
            "image/png": "[encoded data removed]",
            "text/plain": [
              "<Figure size 432x288 with 1 Axes>"
            ]
          },
          "metadata": {
            "tags": []
          }
        }
      ]
    },
    {
      "cell_type": "code",
      "metadata": {
        "id": "EwMP0elqVWrx",
        "colab_type": "code",
        "colab": {
          "base_uri": "https://localhost:8080/",
          "height": 279
        },
        "outputId": "9c21e4dc-5fc0-4e0d-a2f8-27bd3bc8fcd9"
      },
      "source": [
        "y_true = test.target\n",
        "y_predicted = predicted_kn\n",
        "fpr, tpr, _ = roc_curve(y_true, y_predicted)\n",
        "pyplot.plot(fpr, tpr, marker='.', label='Test')\n",
        "# axis labels\n",
        "pyplot.xlabel('False Positive Rate')\n",
        "pyplot.ylabel('True Positive Rate')\n",
        "# show the legend\n",
        "pyplot.legend()\n",
        "# show the plot\n",
        "pyplot.show()"
      ],
      "execution_count": 95,
      "outputs": [
        {
          "output_type": "display_data",
          "data": {
            "image/png": "[encoded data removed]",
            "text/plain": [
              "<Figure size 432x288 with 1 Axes>"
            ]
          },
          "metadata": {
            "tags": []
          }
        }
      ]
    },
    {
      "cell_type": "code",
      "metadata": {
        "id": "RVTsmy6GbJUL",
        "colab_type": "code",
        "colab": {
          "base_uri": "https://localhost:8080/",
          "height": 35
        },
        "outputId": "fc90fa6f-f9e2-46c1-8ea3-736cd11e0f72"
      },
      "source": [
        "print(roc_auc_score(y_true, y_predicted))"
      ],
      "execution_count": 96,
      "outputs": [
        {
          "output_type": "stream",
          "text": [
            "0.6895600000000001\n"
          ],
          "name": "stdout"
        }
      ]
    },
    {
      "cell_type": "markdown",
      "metadata": {
        "id": "dR7dc_wib44V",
        "colab_type": "text"
      },
      "source": [
        "**Decision Tree**"
      ]
    },
    {
      "cell_type": "code",
      "metadata": {
        "id": "8ZMKq-LYbW2a",
        "colab_type": "code",
        "colab": {}
      },
      "source": [
        "clf3 = DecisionTreeClassifier().fit(X_train, train.target)"
      ],
      "execution_count": 0,
      "outputs": []
    },
    {
      "cell_type": "code",
      "metadata": {
        "id": "zNlpQ-g8cEy3",
        "colab_type": "code",
        "colab": {}
      },
      "source": [
        "predicted_dt = clf3.predict(X_test)"
      ],
      "execution_count": 0,
      "outputs": []
    },
    {
      "cell_type": "code",
      "metadata": {
        "id": "8iFgIOJZcuqI",
        "colab_type": "code",
        "colab": {
          "base_uri": "https://localhost:8080/",
          "height": 53
        },
        "outputId": "89c1c011-0fca-4963-d9cd-035022ac075b"
      },
      "source": [
        "sklearn_metrics(test.target, predicted_dt)"
      ],
      "execution_count": 128,
      "outputs": [
        {
          "output_type": "stream",
          "text": [
            "Accuracy = 0.7072\n",
            "F1 = 0.7062, Precision = 0.7086, Recall = 0.7038\n"
          ],
          "name": "stdout"
        }
      ]
    },
    {
      "cell_type": "code",
      "metadata": {
        "id": "jE5mL66dc2Lz",
        "colab_type": "code",
        "colab": {
          "base_uri": "https://localhost:8080/",
          "height": 295
        },
        "outputId": "08a945b6-2ed3-41c1-b7e4-73b4eae861b2"
      },
      "source": [
        "sns.heatmap(data=confusion_matrix(test.target, predicted_dt), annot=True, fmt=\"d\", cbar=False)\n",
        "plt.title(\"Confusion matrix\")\n",
        "plt.xlabel('Predicted')\n",
        "plt.ylabel('True')\n",
        "plt.show()"
      ],
      "execution_count": 105,
      "outputs": [
        {
          "output_type": "display_data",
          "data": {
            "image/png": "[encoded data removed]",
            "text/plain": [
              "<Figure size 432x288 with 1 Axes>"
            ]
          },
          "metadata": {
            "tags": []
          }
        }
      ]
    },
    {
      "cell_type": "code",
      "metadata": {
        "id": "w1bthmm2c-Dm",
        "colab_type": "code",
        "colab": {
          "base_uri": "https://localhost:8080/",
          "height": 279
        },
        "outputId": "50196af5-9445-4c2d-b8f3-402410865735"
      },
      "source": [
        "y_true = test.target\n",
        "y_predicted = predicted_dt\n",
        "fpr, tpr, _ = roc_curve(y_true, y_predicted)\n",
        "pyplot.plot(fpr, tpr, marker='.', label='Test')\n",
        "# axis labels\n",
        "pyplot.xlabel('False Positive Rate')\n",
        "pyplot.ylabel('True Positive Rate')\n",
        "# show the legend\n",
        "pyplot.legend()\n",
        "# show the plot\n",
        "pyplot.show()"
      ],
      "execution_count": 106,
      "outputs": [
        {
          "output_type": "display_data",
          "data": {
            "image/png": "[encoded data removed]",
            "text/plain": [
              "<Figure size 432x288 with 1 Axes>"
            ]
          },
          "metadata": {
            "tags": []
          }
        }
      ]
    },
    {
      "cell_type": "code",
      "metadata": {
        "id": "8Rr7Lp8cdGTN",
        "colab_type": "code",
        "colab": {
          "base_uri": "https://localhost:8080/",
          "height": 35
        },
        "outputId": "1248f4bb-3d8e-4ec8-8770-db221fc697a2"
      },
      "source": [
        "print(roc_auc_score(y_true, y_predicted))"
      ],
      "execution_count": 107,
      "outputs": [
        {
          "output_type": "stream",
          "text": [
            "0.70536\n"
          ],
          "name": "stdout"
        }
      ]
    },
    {
      "cell_type": "markdown",
      "metadata": {
        "id": "4jPdYaMof9nY",
        "colab_type": "text"
      },
      "source": [
        "**Подсчет точности, полноты и F-меры**"
      ]
    },
    {
      "cell_type": "code",
      "metadata": {
        "id": "dwnehV75fVIZ",
        "colab_type": "code",
        "colab": {}
      },
      "source": [
        "def my_metrics(y_true, y_predicted):\n",
        "    \n",
        "    TP = 0\n",
        "    FP = 0\n",
        "    TN = 0\n",
        "    FN = 0\n",
        "\n",
        "    for i in range(len(y_predicted)): \n",
        "        if y_true[i]==y_predicted[i]==1:\n",
        "           TP += 1\n",
        "        if y_predicted[i]==1 and y_true[i]!=y_predicted[i]:\n",
        "           FP += 1\n",
        "        if y_true[i]==y_predicted[i]==0:\n",
        "           TN += 1\n",
        "        if y_predicted[i]==0 and y_true[i]!=y_predicted[i]:\n",
        "           FN += 1\n",
        "    \n",
        "    PR = TP/(TP+FP)\n",
        "    R = TP/(TP+FN)\n",
        "    F = (2*PR*R)/(PR+R)\n",
        "\n",
        "    print('TP: ', TP)\n",
        "    print('FP: ', FP)\n",
        "    print('TN: ', TN)\n",
        "    print('FN: ', FN)\n",
        "    print('Precision: ', PR)\n",
        "    print('Recall: ', R)\n",
        "    print('F-score: ', F)"
      ],
      "execution_count": 0,
      "outputs": []
    },
    {
      "cell_type": "code",
      "metadata": {
        "id": "06GCYYocfo0b",
        "colab_type": "code",
        "colab": {
          "base_uri": "https://localhost:8080/",
          "height": 142
        },
        "outputId": "ac20a89b-bec4-488a-d158-1f759cbbe529"
      },
      "source": [
        "#Decision tree\n",
        "my_metrics(y_true, y_predicted)"
      ],
      "execution_count": 124,
      "outputs": [
        {
          "output_type": "stream",
          "text": [
            "TP:  8780\n",
            "FP:  3646\n",
            "TN:  8854\n",
            "FN:  3720\n",
            "Precision:  0.7065829711894415\n",
            "Recall:  0.7024\n",
            "F-score:  0.7044852764181979\n"
          ],
          "name": "stdout"
        }
      ]
    },
    {
      "cell_type": "markdown",
      "metadata": {
        "id": "wvnuLFDrdTMk",
        "colab_type": "text"
      },
      "source": [
        "**Вывод**\n",
        "\n",
        "Логистическая регрессия судя по метрикам справилась лучше других классификаторов"
      ]
    },
    {
      "cell_type": "markdown",
      "metadata": {
        "id": "Xz_Yls7Zd7cI",
        "colab_type": "text"
      },
      "source": [
        "**15 самых негативных рецензий модели**"
      ]
    },
    {
      "cell_type": "code",
      "metadata": {
        "id": "p8hoVZSxdPUk",
        "colab_type": "code",
        "colab": {}
      },
      "source": [
        "probabilities = clf1.predict_prob(X_test)"
      ],
      "execution_count": 0,
      "outputs": []
    },
    {
      "cell_type": "code",
      "metadata": {
        "id": "OLr0wzd8eNMg",
        "colab_type": "code",
        "colab": {
          "base_uri": "https://localhost:8080/",
          "height": 841
        },
        "outputId": "883679a0-1392-4a8d-aa2b-3f283eb0af4b"
      },
      "source": [
        "negative_probs = {i : probabilities[i][0] for i in range(len(probabilities))}\n",
        "most_negative = []\n",
        "for n in sorted(negative_probs.items() ,  key=lambda x: x[1], reverse=True):\n",
        "    most_negative.append(n[0])\n",
        "for i in most_negative[:15]:\n",
        "    print('{}\\n{}\\n'.format(i, test.data[i]))"
      ],
      "execution_count": 116,
      "outputs": [
        {
          "output_type": "stream",
          "text": [
            "14717\n",
            "b'As you can tell from the other comments, this movie is just about the WORST film ever made. Let me see how many different words I can use to describe it: Boring, Unbearable, Laughable, Lousy, Stupid, Horrible.....<br /><br />I could go on with such descriptions but you probably get the point.<br /><br />I would have given this a 0, if possible--bad acting, bad directing, bad production, bad plot.<br /><br />This was made in 2001 and it looks more like 1965. Very low budget, boring plot, horrible acting, really bad special effects, etc...<br /><br />I rarely ever see a Sci-Fi film I absolutely think is this bad. I mean this is pure garbage. It has nothing going for it either. As far as a \"B-movie\" this is the very bottom of the lot.<br /><br />I think I would be more entertained by staring at a blank piece of paper for 90 minutes. Junk like this gives good low-budget \"B\" movies a bad name. This makes Ed Wood movies look good.<br /><br />The thing about watching direct-to-video movies is, just when you think you\\'ve seen the worst, you see something even worse!<br /><br />DJ Perry is a horrible actor and has no individual characteristics that make him stand out.<br /><br />Avoid this waste at all costs! Oh the humanity!'\n",
            "\n",
            "17215\n",
            "b\"This was truly horrible. Bad acting, bad writing, bad effects, bad scripting, bad camera shots, bad filming, bad characters, bad music, bad editing, bad casting, bad storyline, bad ... well, you get the idea. It was just, just ... what's the word? Oh yeah ... BAD!\"\n",
            "\n",
            "2060\n",
            "b'...the first? Killjoy 1. But here\\'s the review of Killjoy 2:<br /><br />(contains spoilers, so beware readers)<br /><br />Oh my. Oh, my, my, my. I\\'ll start off with telling you that I had no hopes in the least bit that this movie would be good. Considering that Killjoy (the first movie) is without a doubt the worst movie ever made, the sequel didn\\'t have much promise.<br /><br />As expected, it didn\\'t deliver.<br /><br />The deaths were even lamer than in the first movie. There was absolutely no eye candy whatsoever, and every single prop looked so fake that I wouldn\\'t be surprised if they had a kindergarten class make them.<br /><br />Look, I don\\'t even know where to begin. Hm, for starters, the movie wasn\\'t even feature length. It was only an hour and eight minutes long (68 min.), but then again, ending it early was actually a reprieve. In fact, that\\'s the only reason that this movie wasn\\'t as bad as the first, because the first was longer.<br /><br />Usually, I don\\'t give spoilers in reviews, but since I don\\'t want any of you to go through the torture of watching this waste of film, I\\'m going to spoil away. Not that there\\'s much to spoil.<br /><br />Let\\'s start with the ending. KILLJOY IS THE PUSSIEST KILLER EVER. It takes explosions, firebombs, guns, etc. to kill all of the normal serial killers in horror movies. Guess what it took to kill Killjoy? A F***ING GLASS OF WATER. No lie. In the end, a girl picked up a cup of water and threw the water on Killjoy\\'s face. Then Killjoy started screaming, and they tried to make it look like his face was melting by putting dried rubber cement on his forehead. Then he laid there, and the people went to sleep.<br /><br />Now let\\'s hit the acting. VERY TERRIBLE. Not even one person was believable in the least bit. I don\\'t even know what to say, other than it looks like they just hired a few hobos living on the streets to act in this film.<br /><br />Seriously, I honestly doubt that they spent any more than 100 dollars total to make this movie. They had nothing. Most of it took place in the woods, which wouldn\\'t have cost them anything to film on. The actors weren\\'t giving in any effort whatsoever, so it\\'s blatant that they were probably \"working\" for free. They didn\\'t have any kind of special effects or nice props, and they probably used ketchup for the blood. Hell, who am I kidding? They probably didn\\'t even spend 100 dollars. They probably spent $3.29 on a bottle of ketchup and that was it. A f**kin\\' movie made with a budget of $3.29.<br /><br />For Bob\\'s sake, they couldn\\'t even afford to rent a cop uniform. In the end, after Killjoy dies, the girl wakes up and says \"Where is he?\" and the main woman replies, \"He\\'s gone.\" Then, suddenly, some fat goofy guy with scars on his face pops out of nowhere with a cell phone saying \"You have a phone call.\" The girl answers and says \"Oh, hi mom!\" and smiles. Then the fat goofy guy walks along to reveal that it\\'s a police officer. However, he\\'s wearing khaki pants, and a regular button up green shirt, with a lame badge on the front pocket. Hell, it was probably the badge that the director got when he was in safety patrol in 3rd grade. Then they all got into a tan blazer and drove off as the credits rolled. They couldn\\'t even get a police cruiser so they just got a tan blazer. F**kin\\' lame. Killjoy didn\\'t even have the ice cream van that he had in the first movie.<br /><br />Killjoy is without a doubt the most flamboyantly gay slasher EVER. If there was a slasher that wore hot pink spandex and carried a rainbow flag, he STILL would not be as gay as Killjoy. Killjoy isn\\'t funny either (and believe me, he DID try to be).<br /><br />The only good thing about this movie is an extremely lame threat given by one of the delinquents. Somebody makes a comment to some boy about not passing third grade, to which the boy responds, \"I\\'ll show you third grade!\" in a threatening manner. That has to be the absolute worst threat that I\\'ve ever heard. \"I\\'ll show you third grade!\"<br /><br />This movie doesn\\'t even work on a \"so bad, it\\'s good\" level. It\\'s filth. Unless you did something bad, and you are feeling so guilty about it that you want to punish yourself severely, DON\\'T watch this movie.<br /><br />Just remember; if a flaming homosexual clown with a huge black afro tries to bore you to death with gay jokes (and attempt to kill you at the same time), just throw some water at him. Case closed.<br /><br />FINAL RATING: .1 out of 10'\n",
            "\n",
            "16636\n",
            "b'I rented this movie today... worst movie EVER. It was a total waste of time and a horrible story. The acting was horrible, especially by the actress of \"Sai\". She was so bad it was ridiculous. I can\\'t tell if it was her bad acting or because the character was just that stupid in the first place. I can\\'t even get my mind wrapped around just how awful and pointless this whole movie was. I\\'m surprised someone even thought it was a good idea to FILM this movie and bother to release it.<br /><br />If you\\'re looking for a good Vampire/Horror flick.. this is not the movie for you. Move right along! It\\'s a waste of time and money. Heck, I wouldn\\'t even DOWNLOAD this movie if someone PAID me.<br /><br />This movie is so bad it doesn\\'t even deserve a \"1\". I wish I could give it a \"0\"!'\n",
            "\n",
            "5185\n",
            "b\"Do not waste your money or time. Terrible movie. Bad acting, plot all over the place. Really, really bad acting. Man, this movie is just plain bad. I shut it off at 7 minutes. The script is bad, the directing is bad, it seems to me that a high school group got together to do a project for their drama class. Yes, it's that bad. The acting is not convincing at all, mind you I saw only 7 minutes of it. How this movie made it to DVD, is beyond me. <br /><br />It should have been left in the editing storage room. I saw the cover and thought it was pretty cool, I sure's heck won't do that next time :_)\"\n",
            "\n",
            "20861\n",
            "b\"OK, I would give this a 1, but I'm gonna give it a two because I laughed while watching this film...First of all, I can make a much better movie than this one...in a week...The special effects made this film look like a joke. One shouldn't make such films with horrible special effects because then people won't take it seriously. The acting and direction was also horrible. The screenplay had many plot holes and the whole film wasn't believable at all. This has to be the worst Indian film ever. The songs were also bad. The acting was bad and artificial. Need I say more. Don't watch this movie unless you are curious to see how bad it is. That's why I watched it. I am going into film and I wanted to see how bad a bad film can get. Trust me, I watched one of the worst films in history if not THE worst film.\"\n",
            "\n",
            "15917\n",
            "b\"This was a very disappointing movie. I would definitely call this the worst movie of all time.<br /><br />The acting and writing were poor. And the jokes were not funny.<br /><br />I don't see why on earth this piece of crap was even made. I'm not a picky person and I can enjoy stupid things but this is just way too stupid and just plain awful.<br /><br />Avoid this wretched piece of garbage at all costs!\"\n",
            "\n",
            "5110\n",
            "b\"Predator Island starts as six friends, Eric (Tom Dahl), Chris (Dan Gordon) along with Heather (Iris McQuillan-Grace), Kim (Iana Baker) & Denise (Melissa Roby) get invited to spend sometime on Kevin's (Michael Wrann) father's boat partying in the open sea. What could go wrong with such a super sounding idea? Well for starters a big green meteorite could crash into the sea near your boat & an alien life-force could emerge from it & try to kill all of you, then again that's just a ridiculously stupid idea, isn't it?<br /><br />Co-edited, written & directed by Steven Castle I thought Predator Island was crap & it's a simple & straight forward as that really. The script is of the worst kind, you know the sort of abomination that's full of highly annoying teenage character's who do & say the most stupid things, it's full of clich\\xc3\\xa9s & is utterly predictable, it makes next-to-no sense, things just suddenly happen without any build up or explanation, it's boring even at only 70 odd minutes & it has virtually no entertainment value whatsoever, not even unintentional laugh value. The film doesn't really have much of what I would call a plot, there's no explanation given as to why or how this alien creature can take over people's minds or why it can be selective in the sense that one moment the person will be 'normal' the next, when the story calls for it & with no apparent cause, they suddenly get green glowing eyes & a sudden urge to turn cannibal. There's not enough horror in it, the so-called action scenes are pitiful & I really don't want to waste another second thinking about Predator Island let alone wasting my precious energy typing these words...<br /><br />Director Castle doesn't do anything to make this thing watchable & the 'special effects' are absolutely terrible, this alien creature dude wouldn't even get into a 50's sci-fi film. The filmmakers even play some blooper footage over the end credits but this has to be the least funny collection of mistakes ever, I mean they can't even get it wrong right if you know what I mean! Forget about any decent gore as there isn't any, there's a bit of cannibalism & some intestines placed on the unfortunate actors stomach so another unfortunate actor can pick them up & pretend to eat them.<br /><br />With a supposed budget of about $150,000 I have to concede that the filmmakers were working on a seriously low budget, that's still no excuse for making such a poor film. The whole thing looks very cheap & the acting is pretty bad.<br /><br />Predator Island is crap, I'm sorry but that's the way it is & I just fail to see what anyone would get out of it. In my humble opinion this probably one to avoid.\"\n",
            "\n",
            "24458\n",
            "b\"This is just the same old crap that is spewed from amateur idiots who have no clue how to make a movie--gee maybe that's why it is a straight-to-video wanna-be movie!<br /><br />I guess it is my fault for actually spending money to see it (one of the worst decisions I have ever made). What a waste. I usually like B movies, some of them are actually quite good--but this is just too ridiculous and stupid to even be funny.<br /><br />The losers that made this junk deserve to be put out of business for wasting everyone's time and money making a movie that obviously doesn't even deserve to be on film! These so-called movie makers have absolutely NO talent!<br /><br />Stupid plot, horrible acting (especially the drag queens--what sicko would actually find that sexy?!), lame writing (if there even was a script--seems like the kinda bull**** someone just made up on the spot)<br /><br />What is stunning about this movie is its utter lack of anything well-done at all.<br /><br />How much attention to detail would it take to insure that every frame of a film would be so far below any reasonable standards? I don't think it would be possible to make such a bad movie intentionally, and it is inconceivable that sheer bad luck could produce such consistently awful results.<br /><br />Anyway, avoid this stink bomb at all costs!!!!!!!!!!!!!!!!\"\n",
            "\n",
            "12962\n",
            "b'This movie was a complete waste of time. The soundtrack was bad, story was lame and predictable, and the acting was terrible. One of the worst 25 movies I have ever seen. After the first ten minutes, the rest of the film was completely obvious.'\n",
            "\n",
            "5992\n",
            "b\"I knew it was going to be awful but not this awful!!, as it's one of the most boring movies i have ever seen, not a damn thing happens!. All the characters are dull, and the story is stupid and incredibly boring!,plus The ending is especially lame!. The only reason i rented this piece of crap because i am a big fan of Michael Dudikoff, however he is wasted here, and looks extremely bored and shows no emotion what so ever!, plus i cheered out loud when the movie was over!. It's like the movie had no plot and it was all about nothing, and Ice-T is god awful(even though he is OK in some stuff), plus Dudikoff and Yvette Nipar had no chemistry together at all. There's one scene that the director tried to make emotional but he fails miserably as Yvette Nipar didn't really show all that much emotion, however there is a decent Car chase scene, but that's not enough for me to recommend this god awful film!, plus the dialog is atrocious. Avoid this movie like the plague not a damn thing happens, please avoid and trust me on this one you may thank me afterwords. The Direction is horrible!. Fred Olen Ray does a horrible job here, with shoddy camera work, laughably cheap looking set pieces, terrible angles, laughable use of stock footage, and keeping the film at an incredibly dull pace. The Acting is terrible!. Michael Dudikoff is nowhere near his usual amazing self, he looks extremely bored, and shows no emotion what so ever, his character is also extremely dull, as i can't believe he signed on for this piece of garbage, he also had no chemistry with Yvette Nipar(Dudikoff still rules!!!). Ice-T has barely anything to do and also looks bored, and he didn't convince me one bit. Hannes Jaenicke is not very good here, he had somewhat of a wimpy character, i didn't like him. Yvette Nipar is pretty but was really terrible here, she didn't show much emotion, and had no chemistry with Dudikoff, and as a result i didn't give a damn about her character!. Art Hindle,(Owen Marsh),Kathy Harren(Katharine Marsh), and the rest of the cast are bad as well. Overall Please avoid like the plague!, Fred Olen Ray and Steve Lathshaw should be ashamed of themselves!. BOMB out of 5\"\n",
            "\n",
            "9897\n",
            "b\"I knew it was going to be awful but not this awful!!, as it's one of the most boring movies i have ever seen, not a damn thing happens!. All the characters are dull, and the story is stupid and incredibly boring!,plus The ending is especially lame!. The only reason i rented this piece of crap because i am a big fan of Michael Dudikoff, however he is wasted here, and looks extremely bored and shows no emotion what so ever!, plus i cheered out loud when the movie was over!. It's like the movie had no plot and it was all about nothing, and Ice-T is god awful(even though he is OK in some stuff), plus Dudikoff and Yvette Nipar had no chemistry together at all. There's one scene that the director tried to make emotional but he fails miserably as Yvette Nipar didn't really show all that much emotion, however there is a decent Car chase scene, but that's not enough for me to recommend this god awful film!, plus the dialog is atrocious. Avoid this movie like the plague not a damn thing happens, please avoid and trust me on this one you may thank me afterwords. The Direction is horrible!. Fred Olen Ray does a horrible job here, with shoddy camera work, laughably cheap looking set pieces, terrible angles, laughable use of stock footage, and keeping the film at an incredibly dull pace. The Acting is terrible!. Michael Dudikoff is nowhere near his usual amazing self, he looks extremely bored, and shows no emotion what so ever, his character is also extremely dull, as i can't believe he signed on for this piece of garbage, he also had no chemistry with Yvette Nipar(Dudikoff still rules!!!). Ice-T has barely anything to do and also looks bored, and he didn't convince me one bit. Hannes Jaenicke is not very good here, he had somewhat of a wimpy character, i didn't like him. Yvette Nipar is pretty but was really terrible here, she didn't show much emotion, and had no chemistry with Dudikoff, and as a result i didn't give a damn about her character!. Art Hindle,(Owen Marsh),Kathy Harren(Katharine Marsh), and the rest of the cast are bad as well. Overall Please avoid like the plague!, Fred Olen Ray and Steve Lathshaw should be ashamed of themselves!. BOMB out of 5\"\n",
            "\n",
            "17852\n",
            "b\"This movie is pathetic in every way possible. Bad acting, horrible script (was there one?), terrible editing, lousy cinematography, cheap humor. Just plain horrible.<br /><br />I had seen 'The Wishmaster' a couple weeks before this movie and I thought it was a dead-ringer for worst movie of the year. Then, I saw 'The Pest' and suddenly 'The Wishmaster' didn't seem so bad at all.<br /><br />Bad Bad Bad. Excruciatingly bad.\"\n",
            "\n",
            "7226\n",
            "b\"Larry Bishop directs, writes, and leads this soft core porn, plot less biker movie about nothing to do with anything. To call this one of the worst movies of 2008 is being kind to the garbage that I spent money on while in theaters. Its one of the worst movies I have ever seen. I felt sorry for the girls mostly, who probably think they're in the making of a feature film, when in all reality they're making a porno. They walk on the set for four days, say some sexual lines to disgusting old men -- thirty years older than them -- then take off their cloths, and run around naked for the four days they're on set. I can only assume this was Larry Bishops only way to get laid. You see shot after shot directly on a girls asses. Shot after shot of Bishop walking up to some random chick and grabbing her most intimate parts, as if he were shaking her hand. How this crap was even funded is beyond me. Why Tarantino has his name on it is beyond me, but he's been slowly fading away since 1994, so I can't say I was surprised.<br /><br />After 15 minutes, you get that awful feeling that only horrible (and I mean horrible) movies give you. When you see it in theaters, the pain you feel is amplified. After 15 minutes, I wanted to cry for being so stupid, and wasting, not only my time, but my hard earned ten dollars. There isn't one redeeming quality, or one moment in the movie that creates any kind of reaction or shows any kind of inclination that these people had any idea of what they are doing. If you don't see naked women all that often, then I guess this movie would be for you. If you're eleven-years-old, you will probably like it. You can't even laugh at it, because every idiot making it was laughing about the crap they were making. The acting is awful, the writing is awful, the production is awful, and the directing is awful. It's not even worth your time renting it to see the car crash. Stay away, stay very far away. You shouldn't even be reading these reviews. I shouldn't even be writing one.\"\n",
            "\n",
            "12089\n",
            "b'Everything about this movie is bad. everything. Ridiculous 80\\'s haircuts. Ridiculous moustaches. Ridiculous action and fight scenes where you can actually see that the adversaries do not even hit each other. Bad, bad, bad 80\\'s music. Repeated scenes of people running through woods. A bad guy with a silver plastic hand and silly hair. Stupid dialogue. The acting is nonexistant. Everything looks extremely cheap. This movie even surpasses \"Plan 9 from outer space\" in its utter badness.<br /><br />It\\'s not \"funny bad\" it\\'s just bad.'\n",
            "\n"
          ],
          "name": "stdout"
        }
      ]
    },
    {
      "cell_type": "markdown",
      "metadata": {
        "id": "mC3LlH5Ph_hR",
        "colab_type": "text"
      },
      "source": [
        "**15 самых позитивных рецензий модели**"
      ]
    },
    {
      "cell_type": "code",
      "metadata": {
        "id": "ZLT1udvMiBkX",
        "colab_type": "code",
        "colab": {
          "base_uri": "https://localhost:8080/",
          "height": 841
        },
        "outputId": "c09aa1ed-219a-4f2e-851a-8ffba1addbbc"
      },
      "source": [
        "positive_probs = {i : probabilities[i][1] for i in range(len(probabilities))}\n",
        "most_positive = []\n",
        "for n in sorted(positive_probs.items() ,  key=lambda x: x[1], reverse=True):\n",
        "    most_positive.append(n[0])\n",
        "for i in most_positive[:15]:\n",
        "    print('{}\\n{}\\n'.format(i, test.data[i]))"
      ],
      "execution_count": 122,
      "outputs": [
        {
          "output_type": "stream",
          "text": [
            "24154\n",
            "b\"This is one of Bruce's most underrated films in my opinion, its an awesome heartwarming film, with a neat story and an amazing performance from Bruce Willis!. All the characters are great, and I thought Willis and Spencer Breslin were just awesome together, plus Bruce Willis is simply amazing in this!. This is definitely one of Bruce's best comedic performances (The waaaaaaaaaamabulance thing was great) and I thought it was very well written and made as well, plus The finale is especially cool!. It's good natured and it was cool how you can see Russell's (Willis) character change throughout the film! plus the ending was pretty good. I think this should be higher then 6.0 and it's one of the best Disney films I have ever seen! plus it has many surprising moments throughout. All the characters are extremely likable, and it also has a cute love story angle too it as well, plus Bruce and Spencer Breslin both had some really funny lines (Holy Smokes!). This is one of Bruce's most underrated films in my opinion, its an awesome heartwarming film, with a neat story and an an amazing performance from Bruce Willis and I say its a must see!. The Direction is great!. Jon Turteltaub does a great job here with really good camera work, and just keeping the film at a very fast pace. The Acting is excellent!. Bruce Willis is amazing as always and is amazing here, he gives one of his best comedic performances, is hilarious had wonderful chemistry with both Spencer Breslin and Emily Mortimer, had some funny lines, and was dead on throughout the movie, he was one of the main reasons I liked this movie so much! (Willis Rules!!!!!!!). Spencer Breslin is fantastic as the younger version of Russell, he was very funny and didn't get on my nerves once, he is one of the better child actors out there!. Emily Mortimer is good as Amy and was really cute I liked her she had decent chemistry with Bruce too. Lily Tomlin is funny as Janet I liked her quite a bit. Jean Smart is good with what she had to do, which was not much. Rest of the cast do fine. Overall a must see!. **** out pf 5\"\n",
            "\n",
            "8818\n",
            "b'Wow! Fantastic film in my opinion, i wasn\\'t expecting it to be this good! I was captivated from start to finish- it\\'s a very well made and educational film that really gives us a fascinating insight into the trials Darwin had to go through in order to convey his ideas to the world, chronicling his life as he writes \"Origin of the Species\"; fighting both personal demons as well as the ignorant society of the time in order to do so. He struggles hard with his mind, body and soul as personal matters get to breaking point and even his family seems to slip away...whilst the rest of the world stand against him as he knows that his findings literally shake the very foundations of their lives, culture and meaning of existence. It\\'s a subtle movie (not over-exaggerated in any way in that typical Hollywood way, this is a BBC produced British film) yet thankfully very powerful in meaning and this is thanks to the amazing well directed scenes as well as the superb acting by Bettany. Connelly acts as more of a light supporting role but I did enjoy her in this and she\\'s as good as to be expected as always, her chemistry alongside her husband was definitely strong and endearing, you could feel the connection, and their real-life husband/wife bond definitely shines through their performances. But the star of the show is definitely Bettany and he does a brilliant job, a very touching performance- i both understood and sympathised with him as he battled his own degrading health and impending \"insanity\" to try to understand what he has uncovered and come to terms with what it all really is and means as he found his thinking contradict his feelings, and found himself losing it all including his wife who of course was a firm believer in religion and a strict Christian whilst he was in the realm of science, two worlds which could not see eye to eye, so their relationship was at stake too.<br /><br />Anyway- a really very good, well acted emotional drama and dare I say I did shed a tear during the tragic climax which was truly heartbreaking as well as beautifully poignant and moving. The film is symbolic and very intellectually artistic as well, in fact i can\\'t wait to watch it again as there was a lot to take in first time round which i missed. Easily one of the best films i\\'ve seen this year.'\n",
            "\n",
            "14701\n",
            "b\"This is a great German slasher, that's often quite suspenseful, and creative, with a fun story and solid performances. All the characters are cool, and Benno F\\xc3\\xbcrmann is great as the psycho killer, plus Franka Potente gives a fantastic performance as the main lead. It did take a little while to get going, but it was never boring, and it had some good death scenes as well, plus the music is wonderfully creepy. I was lucky enough to get the subtitled version, instead of the dubbed, and I thought all the characters were quite likable, plus it's very well made and written as well. It has some really good plot twists too, and the effects are extremely well done, plus the ending is great. The finale is especially suspenseful, and Franka Potente was the perfect casting choice in my opinion, plus I wish Arndt Schwering-Sohnrey(David) didn't get killed of so soon, because he was a really cool character. There were actually a couple of moments where I felt uncomfortable but in a good way, and I must say this film deserved all it's praise, plus while it does have plot holes, it's not enough to hamper the film. This is a great German slasher, that's often quite suspenseful, and creative, with a fun story, and solid performances, I highly recommend this one!. The Direction is great!. Stefan Ruzowitzky does a great! Job here with excellent camera work, very good angles, great close ups (see the opening sex scene), doing a great job of adding creepy atmosphere, and just keeping the film at a very fast pace.<br /><br />There is quite a bit of blood and gore. We get cadavers cut open,plenty of very gory surgery scenes,lots of bloody stabbings,people are dissected while still being conscious, severed finger, self mutilation, gutting's, bloody slit throat, lots of wicked looking frozen corpses, plenty of blood and more.<br /><br />The Acting is very solid!. Franka Potente is fantastic as the main lead, she was very likable, remained cool under pressure, was vulnerable, easy on the eyes, and we are able to care for her character, the only time she seemed to suffer, was when she had to spurt out some bad dialog here and there, but that wasn't very often, she was wonderful!. Benno F\\xc3\\xbcrmann is excellent as the psycho killer, he was simply chilling, and wonderfully OTT, he really gave me the creeps, and was one effective killer!. Anna Loos played her role very well, as the smart slut, I dug her. Sebastian Blomberg was great here as Caspar, he was quite likable, and had a mysterious character,his chemistry with Potente was also on, and there was a great twists involving him at the end. Holger Speckhahn was good as the Idiot Phil and did his job well. Traugott Buhre is good as Prof. Grombek. Arndt Schwering-Sohnrey was great as David, he had a really cool character, and I wish he didn't get killed of so soon. Rest of the cast do fine.<br /><br />Overall I highly recommend this great German slasher!. ***1/2 out of 5\"\n",
            "\n",
            "21357\n",
            "b\"Went to the premiere at the Tribeca Film Festival in NYC and I absolutely loved the film!!! I am Diane's #1 biggest fan and of course, as always, she gave a magnificent performance!! I have seen every single one of her movies and I must say that this is one of my new favorites. Diane was funny and moving and just took my breath away. Donald Sutherland was surprisingly humorous but also a good amount of serious. Anton Yelchin is just a wonderful young actor and gave an amazing performance. All in all, I recommend this film to anyone who can appreciate an excellent movie. 10 thumbs up!!! I would definitely go see it again and again and again. This is the best film of the year so far!!!\"\n",
            "\n",
            "6193\n",
            "b\"I think this is one of the best tamil movies i've seen in a while. i love the fact that it doesn't revolve around a guy and girl falling in love and they made the movie brilliantly. The cast did a great job and i especially congratulate the litte girl. She was brilliant and really brought out the feeling of an adopted child searching for her real mother. Best of all are the songs, beautiful music and moving lyrics. There are some great songs in this move ya'll! especially 'Kannathil Mutthamittal' and 'Velai Pookal'. Great songs, both of them. I highly recommend this movie to anyone who wants to enjoy a good cry and some great acting (and superb songs! ). Cheers Simran.\"\n",
            "\n",
            "14226\n",
            "b\"AAA is my favorite movie... I have seen it a number of times (don't remember the count now) and every time I just love it.... This is the best movie of Raj Kumar Santoshi..The comedy, dialogues, and performance is amazing.. All the actors and actresses have done a superb job... You cannot stop laughing while watching this movie... its just hilarious... Amir khan and Salman Khan have done a great job... and acting by Paresh Rawal was excellent as always..... The music is inspired from the old Hindi movies (60s music) and is good...the entire cast of the movie has done great job... <br /><br />Overall its a great Indian comedy movie to watch...\"\n",
            "\n",
            "4099\n",
            "b\"This is a solid underrated little thriller, that has thrills-a plenty, with a cool story, Sandra Bullock is terrific!. All the characters are great, and I was surprised by how unpredictable it was as there were only a few predictable moments, plus Sandra Bullock is simply amazing in this!. Jeremy Northam played an awesome villain, and I know what Bullock's character in this is all about, because I'm kind of the same type of person(I hardly ever go out), plus this is pretty well made and written for the most part. This should be higher then 5.5 in my opinion, plus Denis Miller was surprisingly better then expected in his small role. The scene where Northam terrorizes Bullock on his boat was quite suspenseful, and was one of my favorite moments, and I also liked the chase scene in the carnival, plus I liked the ending too, as it was quite well done, even If i did think Northam was defeated too quickly. There are lots of other good chase scenes as well, and it's also clever at times too, plus there are quite a few shocking moments as well, This is a solid underrated little thriller, that has thrills a-plenty, with a cool story, Sandra Bullock is terrific, I highly recommend this one!. The Direction is great!. Irwin Winkler does a great! job here with excellent camera work, adding good atmosphere, good angles and keeping the film at a very fast pace. The Acting is fantastic!. Sandra Bullock is amazing as always and is amazing here, she is extremely likable, tough as nails yet quite vulnerable, and I was able to feel for her because as I said I'm sort of like Angela,I hardly ever go out, I really enjoyed her work in this movie! (Bullock Rules!!!!!!!). Jeremy Northam is excellent as the villain, he was sneaky, unpredictable and very menacing, he was great. Dennis Miller is surprisingly OK and non annoying in his small role, and managed to bring some comic relief. Rest of the cast are fine. Overall I highly recommend this one!. ***1/2 out of 5\"\n",
            "\n",
            "2237\n",
            "b\"It's rare for a film to sweep you away within its world and leave you wanting more once the credits roll. Hayao Miyazaki's Ponyo is such a film.<br /><br />The film is the story of a young goldfish named Ponyo who wishes to become human. She swims to shore and is found by a young boy named Sasuke who promises to take care of her. Course Ponyo's father, an ecologically obsessed sorcerer named Fujimoto, tries to keep Ponyo from becoming human in order to maintain the balance of nature, which is eventually upturned when Ponyo finally transforms into a little girl, causing a massive typhoon.<br /><br />Ponyo is a very rich film. It is full of wondrous fantasy, lovable characters, and genuine heart. What director Hayao Miyazaki has done here is tell a simple little story, and while so doing creating authentic movie magic.<br /><br />Ponyo is an enchanting experience. The love between Sasuke and Ponyo is very pure and true. As well the environmentalist within Miyazaki is still as evident within this film as in all his previous works. Miyazaki shows the filth and grime that fall into the ocean in an almost startling light, not to mention Ponyo's father is on an obsessive mission to clean the world's oceans. While the story is simple, Miyazaki manages to add this extra layer to provoke thought with expert proficiency.<br /><br />The film is a beautiful work of art, each hand drawn cell looks like a wondrous pastel painting. The film looks very different than many other Studio Ghibli productions, but the artistry is still just as spectacular as ever before. The scenes underwater are simply beautiful to watch, Fujimoto's fortress under the sea is highly inventive, and the sequence where Ponyo runs across the jumping fish within the typhoon to reach Sosuke is iconic.<br /><br />Course it is thanks to its wonderfully executed characters that makes this film such a memorable experience. Sosuke is a young boy who acts older than he actually is, and the energetic Ponyo is a laugh a minute. Every character is just so enjoyable and highly memorable.<br /><br />Overall Ponyo is a wondrous experience, enchanting in every single way. While the film may be sold as a children's fairy tale, I believe many adults will be swept away within its fantastic world along with their children. While the film may lack the density of some of Miyazaki's previous works, here he keeps it pure and simple, being true to himself, delivering a film that is funny, heartwarming, and entertaining all in one. This is a magnificent film.<br /><br />I give Ponyo a perfect 10 out of 10!\"\n",
            "\n",
            "11111\n",
            "b'This is an excellent documentary about Am\\xc3\\xa1lia Rodrigues. I enjoyed it very much; it\\'s very well put together and very informative. If you want to know who is Am\\xc3\\xa1lia Rodrigues. I highly recommend you see this film, \"The Art Of Am\\xc3\\xa1lia Rodrigues\".<br /><br />'\n",
            "\n",
            "21732\n",
            "b'Universal Studios version of \"Flipper\" (1996) is a great heartwarming film for the entire family with good values and sentimentality. It is the story of Sandy Ricks, a teenager from Chicago who reluctantly spends his vacation with his Uncle Porter Ricks in the Bahamas. This ultimately changes the teenagers life and he grows up in the process. He learns to appreciate nature and to have a respect for the environment. I grew up in the 1960\\'s and the NBC television show \"Flipper\" was my favorite childhood show. Elijah Wood is perfectly cast as a 1990\\'s Sandy Ricks and gives an excellent performance. As much as I liked the NBC television show and MGM theatrical feature films with Luke Halpin as Sandy in the 1960\\'s I liked this feature the best! I feel Elijah Wood is the best Sandy Ricks. With respect to Luke Halpin I feel Elijah Wood has more of a range of acting talent and emotes more as an actor which makes his performance excellent and more believable. I think Elijah Wood is the best young actor working today in films. Director Alan Shapiro also wrote the screenplay and has done an excellent job as both writer and director of this film. Paul Hogan gives a comical and likable performance as Sandy\\'s Uncle Porter Ricks. Mr. Hogan\\'s performance perfectly offsets Elijah\\'s role as Sandy. I am a big fan of underwater films. This film was beautifully shot in the Bahamas like \"Thunderball\" (1965 UA) was. The director of photography was Bill Butler A.S.C. who lensed the film \"Jaws\" in 1975. Mr. Butler is a very talented cinematographer. The underwater director of photography was Pete Romano. He did a superb job with the underwater cinematography. I enjoyed the film score by Joel McNeely. This good film score featured Crosby, Stills and Nash among other talented artists. This motion picture was shot in Panavision like \"Thunderball\" in the aspect ratio of 2.35:1 If possible try to see this film in a scope version as originally framed and visioned by Alan Shapiro and Bill Butler. Another very nice thing is that Mr. Shapiro gave the \"original\" Sandy Ricks (Luke Halpin) a small part in this remake. He portrayed Bounty Fisherman #3 in this film. This was a very kind gesture on Mr. Shapiro\\'s part! As you can tell I am a real true fan of this film. Sadly this beautiful film was met with harsh words by the majority of movie critics. I originally saw this movie on my birthday, May 31st of 1996 in a movie theater. It meant a lot to me. I have it on numerous video versions. The VHS versions are in \"pan and scan\". The laserdisc version is \"letterboxed\" 2.35:1! I even have a VCD in 2.35:1 from Hong Kong which is \"letterboxed\". But my most prized possession is an \"original\" 16mm theatrical feature print which I will treasure for the rest of my life! Thank you Mr. Shapiro, Elijah Wood, Paul Hogan and everyone involved for making this a memorable movie for me to enjoy!<br /><br />P.S. I must add that the quality of the Universal DVD is superb! It is the best DVD as far as quality I have ever seen. The color and resolution is spectacular. The soundtrack is great. I think Universal must have used the same transfer for the DVD that they did for the laserdisc version. The 35mm scope print is \"mint\" and Alan\\'s film really has a wonderful look to it. A great tribute to a wonderful film! The DVD\\'s resolution is even superior to the laserdisc quality! It\\'s just spectacular! Thank you Universal Home Video for the great quality control and transfer. Many thank\\'s for doing a superb job on this wonderful family film. Also many thank\\'s to you Alan for all your extreme kindness to me!!! It\\'s a real honor to know you!!! (Review Revised/Updated June 27, 2005)'\n",
            "\n",
            "6155\n",
            "b'Many years ago I saw this movie (on television maybe?) and loved it. So I decided to rent it on DVD the other day to see whether it still held up in my estimation. It did. <br /><br />Set in Sydney\\'s notorious King\\'s Cross district (where prostitution, drug abuse and sex stores thrive), it tells the story of \"Jimmy\" (played by Heath Ledger). Jimmy is a young man...maybe late teens or thereabouts, who hasn\\'t had a stable family background. He is on the fringes of society, and works as a \\'tout\\' for a sex club (encouraging people to enter the store). He is aware of an underworld figure called \"Pando\", who is a local bigwig in the Cross. It\\'s Jimmy\\'s hope that he will find himself on Pando\\'s radar and get \\'in\\' with him...a short-cut to upward social mobility, he hopes.<br /><br />One night Jimmy meets the beautiful young woman Alex (played by the charming Rose Byrne). You just know that a love story will play out between them. On that night as well, Jimmy is first contacted by Pando (played by Bryan Brown). Pando has a \\'job\\' for Jimmy. It\\'s the \\'foot in the door\\' that Jimmy has been waiting for!<br /><br />To reveal too much more would spoil the many surprises that this movie has in store for the viewer. Stylistically, if you like Quentin Tarantino or Guy Ritchie movies, you should be in tune with what to expect...twists and turns and black comedy.<br /><br />What\\'s so great about this movie is its very \\'Australian-ness\\'. It\\'s no mere knock off of Tarantino or Ritchie, but a genuine Australian contribution to the genre. <br /><br />A fascinating aspect to this movie is how it all hangs together. Sometimes you are introduced to characters who you wonder what the hell they\\'re doing there. In the end, all these \\'loose ends\\' tie together beautifully. It\\'s sort of like a celluloid Moebius strip.<br /><br />A highlight of the movie is Bryan Brown\\'s character of Pando. Pando likes puzzles, and it\\'s fun to see him play games with his cronies. It\\'s the little details revealed about him which are so enjoyable...his taste in music, for starters!<br /><br />Of the Heath Ledger movies I have seen (The Dark Knight, 10 Things I hate about you), this is perhaps his best role. Wasn\\'t taken with \"10 things\". If you are a Heath Ledger fan (Ledger recently died a tragic, accidental death), this is a chance to see him in his greatest Australian role, I think. There is great chemistry between Ledger and Byrne in this movie-so, on one level, it functions as nice love story.<br /><br />This movie doesn\\'t have some of the horror of Tarantino and Ritchie underworld movies, but it does have some adult themes...scenes that surprise you with their coldness and beauty. In that sense, it\\'s not an ideal movie for very young viewers, but it\\'s not a movie that gore-hounds will get excited about either. <br /><br />Lastly, I have to say that it is great that Australia can make great movies like this. Usually the kind of movies my home country makes can be uniniviting. This movie has strengths where many Australian movies have weaknesses...i.e. it has a great story, great acting and a great script. We need more popular, quality movies like this to be made here in Australia. <br /><br />Highly recommended. Other Australian movies I have loved include:<br /><br />Breaker Morant (10/10) Mad Max 2 (10/10) My Brilliant Career (not reviewed here by me yet) Proof (nr) The Devil\\'s Playground (nr) The Year My Voice Broke (nr) Bad Boy Bubby (nr. A great, dark comedy) The Dish (nr. A great, charming comedy)'\n",
            "\n",
            "20817\n",
            "b\"I love this movie because every single element of it is nothing less than excellent. I will quickly praise a few of them. Peter O'Toole gives us one of his great performances as he becomes the definitive Mr. Chips. Petula Clark, has a beautiful voice and is perfect as Katharine. The director was able to bring the story to the screen in a fresh new way. Combine that with the fantastic and creative cinematography, editing, writing, etc., and you have a film that shows the fine quality of its production. I can't praise the well-planned camera work enough, it moves us up and around, zooming in and out, giving us the best views of, and letting the locations become part of the scene. Petula Clark's last song 'YOU AND I' is just 3 beautifully composed long takes, and in this era of 2 second takes, I can appreciate the extra care that everyone involved had to give to get those long scenes perfect. The music is great, and the songs move the story along just as they should. Leslie Bricusse is one of my favorite composers. Listen to these songs, how could anyone not like them? This is a very romantic story between two people nearing middle age that find each other, bring out the best in each other, and it lasts till the end of their lives. Excellent production values, acting, camera work, and music, make this movie well worth watching.\"\n",
            "\n",
            "10099\n",
            "b\"This is a surprisingly great low budget Horror/Comedy, it's funny and pretty well made, with good performances and a really cool twist ending!. All the characters are pretty cool, and the story while unoriginal is very good, plus Eric Jungmann(Adam) and Justin Urich(Harley) had fantastic chemistry together. One of the funniest moments in the film for me is when Adam is trapped in the bathroom, and Harley wakes up to find that monster truck sitting there, and decides to take a p*ss in the truck, and Aimee Brooks is just plain sexy!, plus this is one of the best low budget Horror films I have seen in a long time. It's very gory, but in a comical way, and I thought it was very well written as well, plus Michael Bailey Smith is fantastic as the Monster Man and had some wicked makeup!. It's similar to films like Joy Ride, Duel, Jeepers Creepers, etc, etc and it has some suspenseful moments here and there, plus The gore effects are really well done for the most part. This is a surprisingly great low budget Horror/Comedy, it's funny and pretty well made, with good performances and a really cool twist ending, I highly recommend this one!. The Direction is very good!. Michael Davis does a very good! job here, with great camera work, good angles,good use of colors, and using a great setting, plus he kept the film funny and at a very fast pace.<br /><br />There is a lot of gore!. We get extremely bloody nose bleeds,gory impaling's, bloody stabbings,guy is cut in half by a monster truck, human remains in a cooked stew, guts all over the place,guys guts fall out,pencil in the eyes,bloody slit throat,bunch of people walking around without limbs,gory dead squirrel,heads are squished,severed limbs,bloody and mangled corpses,decent amount of bloodshed,one very gory scene at the very end and more!.<br /><br />The Acting is very good for a low budget film. Eric Jungmann is fantastic here as Adam, he was a nerd but a very likable one, he had fantastic chemistry with Justin Urich, had some cool lines,and I just loved his character, he also seemed to be enjoying himself,and he was especially good at the end!. Justin Urich is excellent as the ass of a Best Friend, however I just couldn't help but love him as he was very funny, and often stole a lot of the scenes, I really dug him!. Aimee Brooks is gorgeous, and did great with what she had to do, she had good chemistry with Jungmann and like Jungmann was especially good at the end, as I loved her mysterious character. Michael Bailey Smith is wonderful as The Monster Man he was very creepy looking, had some awesome makeup, and is now one of my favorite slashers!. Rest of the cast do fine.<br /><br />Overall I highly recommend this one!. ***1/2 out of 5\"\n",
            "\n",
            "22216\n",
            "b\"What a wonderful film, filled with eccentric, unique characters who are wonderfully realized by a great ensemble cast. The director also did a great job keeping the story held together, getting those wonderful performances (on not messing with them) and using music (and what wonderful music it is) to great effect. S. Epatha in the lead role is great. I had always heard what a brilliant stage actor she is, and although I have enjoyed her on Law and Order, this really shows what she can do with a filled out, complex role. Macy Gray is terrific, Mos Def, as usual, wonderful. Lou Gossett, great. Jimmy Smits, terrific, and doesn't try to pull focus because he's a star. A true piece of ensemble acting. <br /><br />Rent it, enjoy it, groove to it, and treasure it. Something special.\"\n",
            "\n",
            "7821\n",
            "b'\"Duckman\" is a great show. I first saw it when I was 10 years old at the time and after school I rushed home and turned on Comedy Central. I saw a cartoon called \"Duckman\" and I LOVED IT!! It\\'s such a funny and cool show. It\\'s created by Klasky-Csupo, who are great creators of cartoons. They animated some of my favorite shows ever, like \"The Simpsons\" and \"Rugrats\".<br /><br />I\\'ve seen lots of episodes of this show and I think they\\'re all really funny and sweet. The voice actors did a great job voicing the characters, too.<br /><br />I wish that Comedy Central could bring this show back, along with \"The Critic\" and \"Dilbert\".<br /><br />But this is a great Comedy Central show. Great job, Klasky-Csupo!'\n",
            "\n"
          ],
          "name": "stdout"
        }
      ]
    },
    {
      "cell_type": "code",
      "metadata": {
        "id": "mYoDu0B2fEYg",
        "colab_type": "code",
        "colab": {}
      },
      "source": [
        ""
      ],
      "execution_count": 0,
      "outputs": []
    },
    {
      "cell_type": "code",
      "metadata": {
        "id": "a6rODDz-egPE",
        "colab_type": "code",
        "colab": {}
      },
      "source": [
        ""
      ],
      "execution_count": 0,
      "outputs": []
    }
  ]
}
