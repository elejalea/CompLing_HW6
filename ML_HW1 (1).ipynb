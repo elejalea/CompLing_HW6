{
  "nbformat": 4,
  "nbformat_minor": 0,
  "metadata": {
    "colab": {
      "name": "ML_HW1.ipynb",
      "provenance": [],
      "toc_visible": true
    },
    "kernelspec": {
      "name": "python3",
      "display_name": "Python 3"
    }
  },
  "cells": [
    {
      "cell_type": "markdown",
      "metadata": {
        "id": "g3aHdqW2WSiG",
        "colab_type": "text"
      },
      "source": [
        "# Домашнее задание 1"
      ]
    },
    {
      "cell_type": "code",
      "metadata": {
        "id": "drn1fs9kImnF",
        "colab_type": "code",
        "colab": {}
      },
      "source": [
        "import numpy as np\n",
        "import pandas as pd"
      ],
      "execution_count": 1,
      "outputs": []
    },
    {
      "cell_type": "code",
      "metadata": {
        "id": "uny4iN81I5V6",
        "colab_type": "code",
        "colab": {}
      },
      "source": [
        "pd.set_option('display.max_columns', 100)\n",
        "pd.set_option('display.max_rows', 100)"
      ],
      "execution_count": 2,
      "outputs": []
    },
    {
      "cell_type": "code",
      "metadata": {
        "id": "PRFN3dFANkQF",
        "colab_type": "code",
        "colab": {
          "resources": {
            "http://localhost:8080/nbextensions/google.colab/files.js": {
              "data": "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",
              "ok": true,
              "headers": [
                [
                  "content-type",
                  "application/javascript"
                ]
              ],
              "status": 200,
              "status_text": ""
            }
          },
          "base_uri": "https://localhost:8080/",
          "height": 39
        },
        "outputId": "0992dc39-c38c-4333-8408-02febaac26dd"
      },
      "source": [
        "from google.colab import files\n",
        "uploaded = files.upload()"
      ],
      "execution_count": null,
      "outputs": [
        {
          "output_type": "display_data",
          "data": {
            "text/html": [
              "\n",
              "     <input type=\"file\" id=\"files-b8150428-54a7-4b58-a525-aac525655076\" name=\"files[]\" multiple disabled\n",
              "        style=\"border:none\" />\n",
              "     <output id=\"result-b8150428-54a7-4b58-a525-aac525655076\">\n",
              "      Upload widget is only available when the cell has been executed in the\n",
              "      current browser session. Please rerun this cell to enable.\n",
              "      </output>\n",
              "      <script src=\"/nbextensions/google.colab/files.js\"></script> "
            ],
            "text/plain": [
              "<IPython.core.display.HTML object>"
            ]
          },
          "metadata": {
            "tags": []
          }
        }
      ]
    },
    {
      "cell_type": "code",
      "metadata": {
        "id": "vLxtJx36KbZd",
        "colab_type": "code",
        "colab": {}
      },
      "source": [
        "data = pd.read_csv('weatherHistory.csv')"
      ],
      "execution_count": null,
      "outputs": []
    },
    {
      "cell_type": "code",
      "metadata": {
        "id": "lWkc0eBtNrMM",
        "colab_type": "code",
        "colab": {
          "base_uri": "https://localhost:8080/",
          "height": 106
        },
        "outputId": "540a2446-0696-40c2-9ba4-b839513c5535"
      },
      "source": [
        "data.columns"
      ],
      "execution_count": null,
      "outputs": [
        {
          "output_type": "execute_result",
          "data": {
            "text/plain": [
              "Index(['Formatted Date', 'Summary', 'Precip Type', 'Temperature (C)',\n",
              "       'Apparent Temperature (C)', 'Humidity', 'Wind Speed (km/h)',\n",
              "       'Wind Bearing (degrees)', 'Visibility (km)', 'Loud Cover',\n",
              "       'Pressure (millibars)', 'Daily Summary'],\n",
              "      dtype='object')"
            ]
          },
          "metadata": {
            "tags": []
          },
          "execution_count": 45
        }
      ]
    },
    {
      "cell_type": "code",
      "metadata": {
        "id": "4s6uu4sXNwQJ",
        "colab_type": "code",
        "colab": {}
      },
      "source": [
        "def clean_column(column):\n",
        "    column = column.lower()\n",
        "    column = [word for word in column.split() if not'(' in word]\n",
        "    column = '_'.join(column)\n",
        "    return column"
      ],
      "execution_count": null,
      "outputs": []
    },
    {
      "cell_type": "code",
      "metadata": {
        "id": "M_J5gmjCbuCK",
        "colab_type": "code",
        "colab": {}
      },
      "source": [
        "replace = {}\n",
        "for column in data.columns:\n",
        "    replace[column] = clean_column(column)\n",
        "data.rename(replace, axis=1, inplace=True)"
      ],
      "execution_count": null,
      "outputs": []
    },
    {
      "cell_type": "code",
      "metadata": {
        "id": "BbuUmsXkzGxT",
        "colab_type": "code",
        "colab": {}
      },
      "source": [
        "data.rename({'formatted_date': 'date'}, axis=1, inplace=True)"
      ],
      "execution_count": null,
      "outputs": []
    },
    {
      "cell_type": "code",
      "metadata": {
        "id": "vZO0blOhz2j3",
        "colab_type": "code",
        "colab": {
          "base_uri": "https://localhost:8080/",
          "height": 88
        },
        "outputId": "7d756871-3a92-40a9-dc66-783c1682e485"
      },
      "source": [
        "data.columns"
      ],
      "execution_count": null,
      "outputs": [
        {
          "output_type": "execute_result",
          "data": {
            "text/plain": [
              "Index(['date', 'summary', 'precip_type', 'temperature', 'apparent_temperature',\n",
              "       'humidity', 'wind_speed', 'wind_bearing', 'visibility', 'loud_cover',\n",
              "       'pressure', 'daily_summary'],\n",
              "      dtype='object')"
            ]
          },
          "metadata": {
            "tags": []
          },
          "execution_count": 49
        }
      ]
    },
    {
      "cell_type": "code",
      "metadata": {
        "id": "sEBKdt-4z8Rx",
        "colab_type": "code",
        "colab": {}
      },
      "source": [
        "data.date = pd.to_datetime(data.date, utc=True)"
      ],
      "execution_count": null,
      "outputs": []
    },
    {
      "cell_type": "code",
      "metadata": {
        "id": "7t9tpDh-3BEN",
        "colab_type": "code",
        "colab": {
          "base_uri": "https://localhost:8080/",
          "height": 231
        },
        "outputId": "dab765b8-f6ec-4378-e8fd-b35baee8ce79"
      },
      "source": [
        "data.date"
      ],
      "execution_count": null,
      "outputs": [
        {
          "output_type": "execute_result",
          "data": {
            "text/plain": [
              "0       2006-03-31 22:00:00+00:00\n",
              "1       2006-03-31 23:00:00+00:00\n",
              "2       2006-04-01 00:00:00+00:00\n",
              "3       2006-04-01 01:00:00+00:00\n",
              "4       2006-04-01 02:00:00+00:00\n",
              "                   ...           \n",
              "96448   2016-09-09 17:00:00+00:00\n",
              "96449   2016-09-09 18:00:00+00:00\n",
              "96450   2016-09-09 19:00:00+00:00\n",
              "96451   2016-09-09 20:00:00+00:00\n",
              "96452   2016-09-09 21:00:00+00:00\n",
              "Name: date, Length: 96453, dtype: datetime64[ns, UTC]"
            ]
          },
          "metadata": {
            "tags": []
          },
          "execution_count": 51
        }
      ]
    },
    {
      "cell_type": "code",
      "metadata": {
        "id": "kDyeo1sr3IdT",
        "colab_type": "code",
        "colab": {}
      },
      "source": [
        "data.sort_values(by='date', inplace=True)"
      ],
      "execution_count": null,
      "outputs": []
    },
    {
      "cell_type": "code",
      "metadata": {
        "id": "Q_quopvT3M31",
        "colab_type": "code",
        "colab": {
          "base_uri": "https://localhost:8080/",
          "height": 334
        },
        "outputId": "97f5a4f4-3b3e-4538-f793-2016469ae9a2"
      },
      "source": [
        "data.head(4)"
      ],
      "execution_count": null,
      "outputs": [
        {
          "output_type": "execute_result",
          "data": {
            "text/html": [
              "<div>\n",
              "<style scoped>\n",
              "    .dataframe tbody tr th:only-of-type {\n",
              "        vertical-align: middle;\n",
              "    }\n",
              "\n",
              "    .dataframe tbody tr th {\n",
              "        vertical-align: top;\n",
              "    }\n",
              "\n",
              "    .dataframe thead th {\n",
              "        text-align: right;\n",
              "    }\n",
              "</style>\n",
              "<table border=\"1\" class=\"dataframe\">\n",
              "  <thead>\n",
              "    <tr style=\"text-align: right;\">\n",
              "      <th></th>\n",
              "      <th>date</th>\n",
              "      <th>summary</th>\n",
              "      <th>precip_type</th>\n",
              "      <th>temperature</th>\n",
              "      <th>apparent_temperature</th>\n",
              "      <th>humidity</th>\n",
              "      <th>wind_speed</th>\n",
              "      <th>wind_bearing</th>\n",
              "      <th>visibility</th>\n",
              "      <th>loud_cover</th>\n",
              "      <th>pressure</th>\n",
              "      <th>daily_summary</th>\n",
              "    </tr>\n",
              "  </thead>\n",
              "  <tbody>\n",
              "    <tr>\n",
              "      <th>2880</th>\n",
              "      <td>2005-12-31 23:00:00+00:00</td>\n",
              "      <td>Partly Cloudy</td>\n",
              "      <td>rain</td>\n",
              "      <td>0.577778</td>\n",
              "      <td>-4.050000</td>\n",
              "      <td>0.89</td>\n",
              "      <td>17.1143</td>\n",
              "      <td>140.0</td>\n",
              "      <td>9.9820</td>\n",
              "      <td>0.0</td>\n",
              "      <td>1016.66</td>\n",
              "      <td>Mostly cloudy throughout the day.</td>\n",
              "    </tr>\n",
              "    <tr>\n",
              "      <th>2881</th>\n",
              "      <td>2006-01-01 00:00:00+00:00</td>\n",
              "      <td>Mostly Cloudy</td>\n",
              "      <td>rain</td>\n",
              "      <td>1.161111</td>\n",
              "      <td>-3.238889</td>\n",
              "      <td>0.85</td>\n",
              "      <td>16.6152</td>\n",
              "      <td>139.0</td>\n",
              "      <td>9.9015</td>\n",
              "      <td>0.0</td>\n",
              "      <td>1016.15</td>\n",
              "      <td>Mostly cloudy throughout the day.</td>\n",
              "    </tr>\n",
              "    <tr>\n",
              "      <th>2882</th>\n",
              "      <td>2006-01-01 01:00:00+00:00</td>\n",
              "      <td>Mostly Cloudy</td>\n",
              "      <td>rain</td>\n",
              "      <td>1.666667</td>\n",
              "      <td>-3.155556</td>\n",
              "      <td>0.82</td>\n",
              "      <td>20.2538</td>\n",
              "      <td>140.0</td>\n",
              "      <td>9.9015</td>\n",
              "      <td>0.0</td>\n",
              "      <td>1015.87</td>\n",
              "      <td>Mostly cloudy throughout the day.</td>\n",
              "    </tr>\n",
              "    <tr>\n",
              "      <th>2883</th>\n",
              "      <td>2006-01-01 02:00:00+00:00</td>\n",
              "      <td>Overcast</td>\n",
              "      <td>rain</td>\n",
              "      <td>1.711111</td>\n",
              "      <td>-2.194444</td>\n",
              "      <td>0.82</td>\n",
              "      <td>14.4900</td>\n",
              "      <td>140.0</td>\n",
              "      <td>9.9015</td>\n",
              "      <td>0.0</td>\n",
              "      <td>1015.56</td>\n",
              "      <td>Mostly cloudy throughout the day.</td>\n",
              "    </tr>\n",
              "  </tbody>\n",
              "</table>\n",
              "</div>"
            ],
            "text/plain": [
              "                          date        summary precip_type  temperature  \\\n",
              "2880 2005-12-31 23:00:00+00:00  Partly Cloudy        rain     0.577778   \n",
              "2881 2006-01-01 00:00:00+00:00  Mostly Cloudy        rain     1.161111   \n",
              "2882 2006-01-01 01:00:00+00:00  Mostly Cloudy        rain     1.666667   \n",
              "2883 2006-01-01 02:00:00+00:00       Overcast        rain     1.711111   \n",
              "\n",
              "      apparent_temperature  humidity  wind_speed  wind_bearing  visibility  \\\n",
              "2880             -4.050000      0.89     17.1143         140.0      9.9820   \n",
              "2881             -3.238889      0.85     16.6152         139.0      9.9015   \n",
              "2882             -3.155556      0.82     20.2538         140.0      9.9015   \n",
              "2883             -2.194444      0.82     14.4900         140.0      9.9015   \n",
              "\n",
              "      loud_cover  pressure                      daily_summary  \n",
              "2880         0.0   1016.66  Mostly cloudy throughout the day.  \n",
              "2881         0.0   1016.15  Mostly cloudy throughout the day.  \n",
              "2882         0.0   1015.87  Mostly cloudy throughout the day.  \n",
              "2883         0.0   1015.56  Mostly cloudy throughout the day.  "
            ]
          },
          "metadata": {
            "tags": []
          },
          "execution_count": 53
        }
      ]
    },
    {
      "cell_type": "markdown",
      "metadata": {
        "id": "Rs74OicV3XOg",
        "colab_type": "text"
      },
      "source": [
        "**1) самый ветрянный месяц**"
      ]
    },
    {
      "cell_type": "code",
      "metadata": {
        "id": "cgMYekRm5LeE",
        "colab_type": "code",
        "colab": {}
      },
      "source": [
        "by_month = data.groupby(by=data.date.dt.month)['date', 'wind_speed'].mean()"
      ],
      "execution_count": null,
      "outputs": []
    },
    {
      "cell_type": "code",
      "metadata": {
        "id": "xD5e5TcX5nsV",
        "colab_type": "code",
        "colab": {
          "base_uri": "https://localhost:8080/",
          "height": 112
        },
        "outputId": "acb43bea-da5b-46aa-c5d5-fe3a6b80baf8"
      },
      "source": [
        "by_month.loc[by_month.wind_speed == by_month.wind_speed.max()]"
      ],
      "execution_count": null,
      "outputs": [
        {
          "output_type": "execute_result",
          "data": {
            "text/html": [
              "<div>\n",
              "<style scoped>\n",
              "    .dataframe tbody tr th:only-of-type {\n",
              "        vertical-align: middle;\n",
              "    }\n",
              "\n",
              "    .dataframe tbody tr th {\n",
              "        vertical-align: top;\n",
              "    }\n",
              "\n",
              "    .dataframe thead th {\n",
              "        text-align: right;\n",
              "    }\n",
              "</style>\n",
              "<table border=\"1\" class=\"dataframe\">\n",
              "  <thead>\n",
              "    <tr style=\"text-align: right;\">\n",
              "      <th></th>\n",
              "      <th>wind_speed</th>\n",
              "    </tr>\n",
              "    <tr>\n",
              "      <th>date</th>\n",
              "      <th></th>\n",
              "    </tr>\n",
              "  </thead>\n",
              "  <tbody>\n",
              "    <tr>\n",
              "      <th>3</th>\n",
              "      <td>13.415825</td>\n",
              "    </tr>\n",
              "  </tbody>\n",
              "</table>\n",
              "</div>"
            ],
            "text/plain": [
              "      wind_speed\n",
              "date            \n",
              "3      13.415825"
            ]
          },
          "metadata": {
            "tags": []
          },
          "execution_count": 55
        }
      ]
    },
    {
      "cell_type": "markdown",
      "metadata": {
        "id": "-lzE4P0p6kbV",
        "colab_type": "text"
      },
      "source": [
        "**2)самый влажный месяц**"
      ]
    },
    {
      "cell_type": "code",
      "metadata": {
        "id": "mUwaLeG26IHR",
        "colab_type": "code",
        "colab": {}
      },
      "source": [
        "by_year = data.groupby(by=data.date.dt.year)['date', 'humidity'].mean()"
      ],
      "execution_count": null,
      "outputs": []
    },
    {
      "cell_type": "code",
      "metadata": {
        "id": "DtkN9OtU6tUz",
        "colab_type": "code",
        "colab": {
          "base_uri": "https://localhost:8080/",
          "height": 112
        },
        "outputId": "69db6687-a852-4cbc-aa1c-0e6675baccb3"
      },
      "source": [
        "by_year.loc[by_year.humidity == by_year.humidity.max()]"
      ],
      "execution_count": null,
      "outputs": [
        {
          "output_type": "execute_result",
          "data": {
            "text/html": [
              "<div>\n",
              "<style scoped>\n",
              "    .dataframe tbody tr th:only-of-type {\n",
              "        vertical-align: middle;\n",
              "    }\n",
              "\n",
              "    .dataframe tbody tr th {\n",
              "        vertical-align: top;\n",
              "    }\n",
              "\n",
              "    .dataframe thead th {\n",
              "        text-align: right;\n",
              "    }\n",
              "</style>\n",
              "<table border=\"1\" class=\"dataframe\">\n",
              "  <thead>\n",
              "    <tr style=\"text-align: right;\">\n",
              "      <th></th>\n",
              "      <th>humidity</th>\n",
              "    </tr>\n",
              "    <tr>\n",
              "      <th>date</th>\n",
              "      <th></th>\n",
              "    </tr>\n",
              "  </thead>\n",
              "  <tbody>\n",
              "    <tr>\n",
              "      <th>2005</th>\n",
              "      <td>0.89</td>\n",
              "    </tr>\n",
              "  </tbody>\n",
              "</table>\n",
              "</div>"
            ],
            "text/plain": [
              "      humidity\n",
              "date          \n",
              "2005      0.89"
            ]
          },
          "metadata": {
            "tags": []
          },
          "execution_count": 57
        }
      ]
    },
    {
      "cell_type": "markdown",
      "metadata": {
        "id": "ZZyFwLgw64kK",
        "colab_type": "text"
      },
      "source": [
        "**3) неделя с самой переменчивой погодой**"
      ]
    },
    {
      "cell_type": "code",
      "metadata": {
        "id": "Ro-ggN_-6vCh",
        "colab_type": "code",
        "colab": {}
      },
      "source": [
        "by_week = data.groupby(by=data.date.dt.week)['date', 'temperature', 'humidity', 'wind_speed'].std() #данные больше всего отклоняются от среднего"
      ],
      "execution_count": null,
      "outputs": []
    },
    {
      "cell_type": "code",
      "metadata": {
        "id": "gw9PU4HW7q7r",
        "colab_type": "code",
        "colab": {
          "base_uri": "https://localhost:8080/",
          "height": 112
        },
        "outputId": "38764f8c-3b52-47c2-cb8d-dfa77682408b"
      },
      "source": [
        "by_week.sort_values(by=['humidity', 'temperature', 'wind_speed'], ascending=False).head(1)"
      ],
      "execution_count": null,
      "outputs": [
        {
          "output_type": "execute_result",
          "data": {
            "text/html": [
              "<div>\n",
              "<style scoped>\n",
              "    .dataframe tbody tr th:only-of-type {\n",
              "        vertical-align: middle;\n",
              "    }\n",
              "\n",
              "    .dataframe tbody tr th {\n",
              "        vertical-align: top;\n",
              "    }\n",
              "\n",
              "    .dataframe thead th {\n",
              "        text-align: right;\n",
              "    }\n",
              "</style>\n",
              "<table border=\"1\" class=\"dataframe\">\n",
              "  <thead>\n",
              "    <tr style=\"text-align: right;\">\n",
              "      <th></th>\n",
              "      <th>temperature</th>\n",
              "      <th>humidity</th>\n",
              "      <th>wind_speed</th>\n",
              "    </tr>\n",
              "    <tr>\n",
              "      <th>date</th>\n",
              "      <th></th>\n",
              "      <th></th>\n",
              "      <th></th>\n",
              "    </tr>\n",
              "  </thead>\n",
              "  <tbody>\n",
              "    <tr>\n",
              "      <th>34</th>\n",
              "      <td>6.149509</td>\n",
              "      <td>0.223476</td>\n",
              "      <td>6.005965</td>\n",
              "    </tr>\n",
              "  </tbody>\n",
              "</table>\n",
              "</div>"
            ],
            "text/plain": [
              "      temperature  humidity  wind_speed\n",
              "date                                   \n",
              "34       6.149509  0.223476    6.005965"
            ]
          },
          "metadata": {
            "tags": []
          },
          "execution_count": 59
        }
      ]
    },
    {
      "cell_type": "code",
      "metadata": {
        "id": "unBvXOO67syt",
        "colab_type": "code",
        "colab": {}
      },
      "source": [
        ""
      ],
      "execution_count": null,
      "outputs": []
    },
    {
      "cell_type": "markdown",
      "metadata": {
        "id": "quIqKpY_-ba9",
        "colab_type": "text"
      },
      "source": [
        "# Домашнее задание 2"
      ]
    },
    {
      "cell_type": "code",
      "metadata": {
        "id": "dnpIiw24RV8B",
        "colab_type": "code",
        "colab": {
          "base_uri": "https://localhost:8080/",
          "height": 53
        },
        "outputId": "785938ec-1f14-47f0-e1fc-72642508e2e7"
      },
      "source": [
        "import nltk\n",
        "nltk.download('punkt')\n",
        "import string"
      ],
      "execution_count": null,
      "outputs": [
        {
          "output_type": "stream",
          "text": [
            "[nltk_data] Downloading package punkt to /root/nltk_data...\n",
            "[nltk_data]   Package punkt is already up-to-date!\n"
          ],
          "name": "stdout"
        }
      ]
    },
    {
      "cell_type": "code",
      "metadata": {
        "id": "lQbA6gFT-fUn",
        "colab_type": "code",
        "colab": {}
      },
      "source": [
        "data = pd.read_csv('data.csv')"
      ],
      "execution_count": null,
      "outputs": []
    },
    {
      "cell_type": "markdown",
      "metadata": {
        "id": "EezpSaerTDFm",
        "colab_type": "text"
      },
      "source": [
        "Можно предположить, что объявления с большим количеством предложений более содержательны и, как следствие, более привлекательны для покупателя."
      ]
    },
    {
      "cell_type": "code",
      "metadata": {
        "id": "wS9aPu8gTB3G",
        "colab_type": "code",
        "colab": {}
      },
      "source": [
        "def number_of_sent(text):\n",
        "    return len(nltk.tokenize.sent_tokenize(text, language='russian'))"
      ],
      "execution_count": null,
      "outputs": []
    },
    {
      "cell_type": "code",
      "metadata": {
        "id": "BNKpbYykTebl",
        "colab_type": "code",
        "colab": {}
      },
      "source": [
        "data['number_of_sent'] = data.description.apply(number_of_sent)"
      ],
      "execution_count": null,
      "outputs": []
    },
    {
      "cell_type": "markdown",
      "metadata": {
        "id": "SPeH5MlMNtIR",
        "colab_type": "text"
      },
      "source": [
        "Также предположительно, если в тексте много латинских букв, то значит, что в объявлении указано больше технических характеристик и поэтому оно более привлекательно для покупателя."
      ]
    },
    {
      "cell_type": "code",
      "metadata": {
        "id": "q7vWySqxTjvr",
        "colab_type": "code",
        "colab": {}
      },
      "source": [
        "def latin(text):\n",
        "    return sum([1 for ch in text if ch in string.ascii_letters])"
      ],
      "execution_count": null,
      "outputs": []
    },
    {
      "cell_type": "code",
      "metadata": {
        "id": "ha0Yv0f1Nf7F",
        "colab_type": "code",
        "colab": {}
      },
      "source": [
        "data['latin'] = data.description.apply(latin)"
      ],
      "execution_count": null,
      "outputs": []
    },
    {
      "cell_type": "markdown",
      "metadata": {
        "id": "gF3MQnOkOJoo",
        "colab_type": "text"
      },
      "source": [
        "Если в тексте количество заглавных букв превышает количество строчных, то, возможно, объявление будет восприниматься негативно"
      ]
    },
    {
      "cell_type": "code",
      "metadata": {
        "id": "I1-PWm_iOJJL",
        "colab_type": "code",
        "colab": {}
      },
      "source": [
        "def case(text):\n",
        "    text = nltk.tokenize.word_tokenize(text, language='russian')\n",
        "    text = [word for word in text if word.isalpha()]\n",
        "    upper_case = [word for word in text if word.isupper()]\n",
        "    lower_case = [word for word in text if word.islower()]\n",
        "    if not text or len(lower_case) == 0:\n",
        "        return 0\n",
        "    return len(upper_case)/len(lower_case)\n"
      ],
      "execution_count": null,
      "outputs": []
    },
    {
      "cell_type": "code",
      "metadata": {
        "id": "g9PtYCe3RctJ",
        "colab_type": "code",
        "colab": {}
      },
      "source": [
        "data['case'] = data.description.apply(case)"
      ],
      "execution_count": null,
      "outputs": []
    },
    {
      "cell_type": "markdown",
      "metadata": {
        "id": "0lR0-pAQUdcH",
        "colab_type": "text"
      },
      "source": [
        "Можно утверждать, что текст с более длинными словами является более содержательным"
      ]
    },
    {
      "cell_type": "code",
      "metadata": {
        "id": "muqrGHnZR_Tf",
        "colab_type": "code",
        "colab": {}
      },
      "source": [
        "def word_len(text):\n",
        "    text = nltk.tokenize.word_tokenize(text, language='russian')\n",
        "    text = [len(word) for word in text if word.isalpha()]\n",
        "    if not text:\n",
        "        return 0\n",
        "    return sum(text)/len(text)"
      ],
      "execution_count": null,
      "outputs": []
    },
    {
      "cell_type": "code",
      "metadata": {
        "id": "k88b1Of7WI1e",
        "colab_type": "code",
        "colab": {}
      },
      "source": [
        "data['word_len'] = data.description.apply(word_len)"
      ],
      "execution_count": null,
      "outputs": []
    },
    {
      "cell_type": "code",
      "metadata": {
        "id": "lGwAZlMvWPPg",
        "colab_type": "code",
        "colab": {
          "base_uri": "https://localhost:8080/",
          "height": 300
        },
        "outputId": "9f3b7860-168c-4367-85b2-882a6a7d99d9"
      },
      "source": [
        "data.corr()"
      ],
      "execution_count": null,
      "outputs": [
        {
          "output_type": "execute_result",
          "data": {
            "text/html": [
              "<div>\n",
              "<style scoped>\n",
              "    .dataframe tbody tr th:only-of-type {\n",
              "        vertical-align: middle;\n",
              "    }\n",
              "\n",
              "    .dataframe tbody tr th {\n",
              "        vertical-align: top;\n",
              "    }\n",
              "\n",
              "    .dataframe thead th {\n",
              "        text-align: right;\n",
              "    }\n",
              "</style>\n",
              "<table border=\"1\" class=\"dataframe\">\n",
              "  <thead>\n",
              "    <tr style=\"text-align: right;\">\n",
              "      <th></th>\n",
              "      <th>price</th>\n",
              "      <th>item_seq_number</th>\n",
              "      <th>image_top_1</th>\n",
              "      <th>deal_probability</th>\n",
              "      <th>number_of_sent</th>\n",
              "      <th>latin</th>\n",
              "      <th>case</th>\n",
              "      <th>word_len</th>\n",
              "    </tr>\n",
              "  </thead>\n",
              "  <tbody>\n",
              "    <tr>\n",
              "      <th>price</th>\n",
              "      <td>1.000000</td>\n",
              "      <td>0.077973</td>\n",
              "      <td>0.046540</td>\n",
              "      <td>-0.015032</td>\n",
              "      <td>0.070424</td>\n",
              "      <td>-0.005198</td>\n",
              "      <td>-0.003138</td>\n",
              "      <td>0.029154</td>\n",
              "    </tr>\n",
              "    <tr>\n",
              "      <th>item_seq_number</th>\n",
              "      <td>0.077973</td>\n",
              "      <td>1.000000</td>\n",
              "      <td>0.093411</td>\n",
              "      <td>-0.038196</td>\n",
              "      <td>0.099171</td>\n",
              "      <td>0.018651</td>\n",
              "      <td>0.013127</td>\n",
              "      <td>0.039033</td>\n",
              "    </tr>\n",
              "    <tr>\n",
              "      <th>image_top_1</th>\n",
              "      <td>0.046540</td>\n",
              "      <td>0.093411</td>\n",
              "      <td>1.000000</td>\n",
              "      <td>0.185397</td>\n",
              "      <td>0.087741</td>\n",
              "      <td>0.176032</td>\n",
              "      <td>0.043833</td>\n",
              "      <td>0.085567</td>\n",
              "    </tr>\n",
              "    <tr>\n",
              "      <th>deal_probability</th>\n",
              "      <td>-0.015032</td>\n",
              "      <td>-0.038196</td>\n",
              "      <td>0.185397</td>\n",
              "      <td>1.000000</td>\n",
              "      <td>0.004417</td>\n",
              "      <td>-0.005189</td>\n",
              "      <td>0.000854</td>\n",
              "      <td>0.041363</td>\n",
              "    </tr>\n",
              "    <tr>\n",
              "      <th>number_of_sent</th>\n",
              "      <td>0.070424</td>\n",
              "      <td>0.099171</td>\n",
              "      <td>0.087741</td>\n",
              "      <td>0.004417</td>\n",
              "      <td>1.000000</td>\n",
              "      <td>0.116022</td>\n",
              "      <td>0.028059</td>\n",
              "      <td>0.061888</td>\n",
              "    </tr>\n",
              "    <tr>\n",
              "      <th>latin</th>\n",
              "      <td>-0.005198</td>\n",
              "      <td>0.018651</td>\n",
              "      <td>0.176032</td>\n",
              "      <td>-0.005189</td>\n",
              "      <td>0.116022</td>\n",
              "      <td>1.000000</td>\n",
              "      <td>0.112506</td>\n",
              "      <td>0.018789</td>\n",
              "    </tr>\n",
              "    <tr>\n",
              "      <th>case</th>\n",
              "      <td>-0.003138</td>\n",
              "      <td>0.013127</td>\n",
              "      <td>0.043833</td>\n",
              "      <td>0.000854</td>\n",
              "      <td>0.028059</td>\n",
              "      <td>0.112506</td>\n",
              "      <td>1.000000</td>\n",
              "      <td>-0.025580</td>\n",
              "    </tr>\n",
              "    <tr>\n",
              "      <th>word_len</th>\n",
              "      <td>0.029154</td>\n",
              "      <td>0.039033</td>\n",
              "      <td>0.085567</td>\n",
              "      <td>0.041363</td>\n",
              "      <td>0.061888</td>\n",
              "      <td>0.018789</td>\n",
              "      <td>-0.025580</td>\n",
              "      <td>1.000000</td>\n",
              "    </tr>\n",
              "  </tbody>\n",
              "</table>\n",
              "</div>"
            ],
            "text/plain": [
              "                     price  item_seq_number  image_top_1  deal_probability  \\\n",
              "price             1.000000         0.077973     0.046540         -0.015032   \n",
              "item_seq_number   0.077973         1.000000     0.093411         -0.038196   \n",
              "image_top_1       0.046540         0.093411     1.000000          0.185397   \n",
              "deal_probability -0.015032        -0.038196     0.185397          1.000000   \n",
              "number_of_sent    0.070424         0.099171     0.087741          0.004417   \n",
              "latin            -0.005198         0.018651     0.176032         -0.005189   \n",
              "case             -0.003138         0.013127     0.043833          0.000854   \n",
              "word_len          0.029154         0.039033     0.085567          0.041363   \n",
              "\n",
              "                  number_of_sent     latin      case  word_len  \n",
              "price                   0.070424 -0.005198 -0.003138  0.029154  \n",
              "item_seq_number         0.099171  0.018651  0.013127  0.039033  \n",
              "image_top_1             0.087741  0.176032  0.043833  0.085567  \n",
              "deal_probability        0.004417 -0.005189  0.000854  0.041363  \n",
              "number_of_sent          1.000000  0.116022  0.028059  0.061888  \n",
              "latin                   0.116022  1.000000  0.112506  0.018789  \n",
              "case                    0.028059  0.112506  1.000000 -0.025580  \n",
              "word_len                0.061888  0.018789 -0.025580  1.000000  "
            ]
          },
          "metadata": {
            "tags": []
          },
          "execution_count": 48
        }
      ]
    },
    {
      "cell_type": "markdown",
      "metadata": {
        "id": "3h-Eht5_W6gk",
        "colab_type": "text"
      },
      "source": [
        "С вероятностью покупки коррелирует только длинна слов."
      ]
    },
    {
      "cell_type": "markdown",
      "metadata": {
        "id": "79CXz5SrXrFs",
        "colab_type": "text"
      },
      "source": [
        "**Векторизация**"
      ]
    },
    {
      "cell_type": "code",
      "metadata": {
        "id": "fUPOrfUWXqJR",
        "colab_type": "code",
        "colab": {
          "base_uri": "https://localhost:8080/",
          "height": 71
        },
        "outputId": "117568da-830d-4a4b-a7a6-b5891c5abcb1"
      },
      "source": [
        "from sklearn.model_selection import train_test_split\n",
        "from sklearn.linear_model import LinearRegression, Ridge\n",
        "from sklearn.metrics import mean_squared_error\n",
        "\n",
        "from sklearn.feature_extraction.text import CountVectorizer, TfidfVectorizer\n",
        "from sklearn.metrics import r2_score, mean_squared_error\n",
        "from nltk.corpus import stopwords\n",
        "nltk.download('stopwords')"
      ],
      "execution_count": null,
      "outputs": [
        {
          "output_type": "stream",
          "text": [
            "[nltk_data] Downloading package stopwords to /root/nltk_data...\n",
            "[nltk_data]   Package stopwords is already up-to-date!\n"
          ],
          "name": "stdout"
        },
        {
          "output_type": "execute_result",
          "data": {
            "text/plain": [
              "True"
            ]
          },
          "metadata": {
            "tags": []
          },
          "execution_count": 49
        }
      ]
    },
    {
      "cell_type": "code",
      "metadata": {
        "id": "z1wLJ7uXY6gs",
        "colab_type": "code",
        "colab": {}
      },
      "source": [
        "X_train, X_test, y_train, y_test = train_test_split(X, y, random_state=42)"
      ],
      "execution_count": null,
      "outputs": []
    },
    {
      "cell_type": "code",
      "metadata": {
        "id": "C0LvrpR-W5mW",
        "colab_type": "code",
        "colab": {}
      },
      "source": [
        "X = data[['number_of_sent', 'latin', 'case', 'word_len']].values\n",
        "y = data.deal_probability.values"
      ],
      "execution_count": null,
      "outputs": []
    },
    {
      "cell_type": "code",
      "metadata": {
        "id": "nTtKdRP-Y7X4",
        "colab_type": "code",
        "colab": {}
      },
      "source": [
        "clf = LinearRegression().fit(X_train, y_train)\n",
        "y_pred = clf.predict(X_test)"
      ],
      "execution_count": null,
      "outputs": []
    },
    {
      "cell_type": "code",
      "metadata": {
        "id": "z-UpFI-VZKVJ",
        "colab_type": "code",
        "colab": {
          "base_uri": "https://localhost:8080/",
          "height": 53
        },
        "outputId": "97b7206e-ca53-4e56-fdbc-6dab3d0ef49a"
      },
      "source": [
        "y_pred"
      ],
      "execution_count": null,
      "outputs": [
        {
          "output_type": "execute_result",
          "data": {
            "text/plain": [
              "array([0.15364614, 0.13550428, 0.14701031, ..., 0.139063  , 0.14333984,\n",
              "       0.14880856])"
            ]
          },
          "metadata": {
            "tags": []
          },
          "execution_count": 54
        }
      ]
    },
    {
      "cell_type": "code",
      "metadata": {
        "id": "89_rRyf_ZAEH",
        "colab_type": "code",
        "colab": {
          "base_uri": "https://localhost:8080/",
          "height": 35
        },
        "outputId": "3a803af2-bb44-4e83-e6fc-bbfe70e91092"
      },
      "source": [
        "np.sqrt(mean_squared_error(y_test, y_pred))"
      ],
      "execution_count": null,
      "outputs": [
        {
          "output_type": "execute_result",
          "data": {
            "text/plain": [
              "0.26338540482969625"
            ]
          },
          "metadata": {
            "tags": []
          },
          "execution_count": 55
        }
      ]
    },
    {
      "cell_type": "code",
      "metadata": {
        "id": "DxdtNdv3Z6r3",
        "colab_type": "code",
        "colab": {}
      },
      "source": [
        "def eval_result(y_test, y_pred):\n",
        "    print(f'{np.sqrt(mean_squared_error(y_test, y_pred))}')\n",
        "    print(f'{r2_score(y_test, y_pred)}')"
      ],
      "execution_count": null,
      "outputs": []
    },
    {
      "cell_type": "code",
      "metadata": {
        "id": "oCGe7RiOZCgr",
        "colab_type": "code",
        "colab": {}
      },
      "source": [
        "def evaluation_model(vec):\n",
        "    X = vec.fit_transform(data.description)\n",
        "    y = data.deal_probability.values\n",
        "    X_train, X_test, y_train, y_test = train_test_split(X, y, random_state=42)\n",
        "    regressor = Ridge(alpha=1).fit(X_train, y_train)\n",
        "    y_pred = regressor.predict(X_test)\n",
        "    eval_result(y_test, y_pred)"
      ],
      "execution_count": null,
      "outputs": []
    },
    {
      "cell_type": "markdown",
      "metadata": {
        "id": "AnyvEuHHvBX0",
        "colab_type": "text"
      },
      "source": [
        "**Параметры векторизатора CountVectorizer**"
      ]
    },
    {
      "cell_type": "code",
      "metadata": {
        "id": "zYvLgg-oZgdg",
        "colab_type": "code",
        "colab": {
          "base_uri": "https://localhost:8080/",
          "height": 53
        },
        "outputId": "6b422cdd-e21a-4040-d45c-36eb9a1146fe"
      },
      "source": [
        "cv = CountVectorizer(max_features=1000, min_df=5, max_df=0.4, ngram_range=(1,3),\n",
        "                     stop_words=stopwords.words('russian'))\n",
        "evaluation_model(cv)"
      ],
      "execution_count": null,
      "outputs": [
        {
          "output_type": "stream",
          "text": [
            "0.2514549837527481\n",
            "0.09054043348263452\n"
          ],
          "name": "stdout"
        }
      ]
    },
    {
      "cell_type": "markdown",
      "metadata": {
        "id": "nIVyHPm-bRBU",
        "colab_type": "text"
      },
      "source": [
        "Использование стоп-слов не улучшило существенно результат."
      ]
    },
    {
      "cell_type": "code",
      "metadata": {
        "id": "6EG2eLpNZlWn",
        "colab_type": "code",
        "colab": {
          "base_uri": "https://localhost:8080/",
          "height": 53
        },
        "outputId": "a4c80dd7-36e2-4941-93fe-388e2f80fa3b"
      },
      "source": [
        "cv = CountVectorizer(max_features=7000, min_df=5, max_df=0.4, ngram_range=(1,3),\n",
        "                     stop_words=stopwords.words('russian'))\n",
        "evaluation_model(cv)"
      ],
      "execution_count": null,
      "outputs": [
        {
          "output_type": "stream",
          "text": [
            "0.25520325386494447\n",
            "0.06322495021503449\n"
          ],
          "name": "stdout"
        }
      ]
    },
    {
      "cell_type": "markdown",
      "metadata": {
        "id": "8EJ-E3fxbOis",
        "colab_type": "text"
      },
      "source": [
        "Повышение количества фич не улучшае результат."
      ]
    },
    {
      "cell_type": "code",
      "metadata": {
        "id": "cNBFPQmZ31df",
        "colab_type": "code",
        "colab": {
          "base_uri": "https://localhost:8080/",
          "height": 53
        },
        "outputId": "8d838dd2-494d-4f94-c95d-ea1d099bf413"
      },
      "source": [
        "cv = CountVectorizer(max_features=1000, min_df=2, max_df=0.4, ngram_range=(1,3),\n",
        "                     stop_words=stopwords.words('russian'))\n",
        "evaluation_model(cv)"
      ],
      "execution_count": null,
      "outputs": [
        {
          "output_type": "stream",
          "text": [
            "0.251459366499311\n",
            "0.09050873026907102\n"
          ],
          "name": "stdout"
        }
      ]
    },
    {
      "cell_type": "markdown",
      "metadata": {
        "id": "tCiH2Svp0do0",
        "colab_type": "text"
      },
      "source": [
        "Уменьшение параметра минимальной частоты не улучшило результат"
      ]
    },
    {
      "cell_type": "code",
      "metadata": {
        "id": "fuaazUcn4xfH",
        "colab_type": "code",
        "colab": {
          "base_uri": "https://localhost:8080/",
          "height": 53
        },
        "outputId": "893c844a-95ee-40eb-e66f-b6138fc4b8c9"
      },
      "source": [
        "cv = CountVectorizer(max_features=1000, min_df=5, max_df=0.4, ngram_range=(1,2),\n",
        "                     stop_words=stopwords.words('russian'))\n",
        "evaluation_model(cv)"
      ],
      "execution_count": null,
      "outputs": [
        {
          "output_type": "stream",
          "text": [
            "0.25142451296357105\n",
            "0.0907608329455104\n"
          ],
          "name": "stdout"
        }
      ]
    },
    {
      "cell_type": "markdown",
      "metadata": {
        "id": "_Gn51eID5WRh",
        "colab_type": "text"
      },
      "source": [
        "Если убрать триграммы, то качество немного улучшается"
      ]
    },
    {
      "cell_type": "markdown",
      "metadata": {
        "colab_type": "text",
        "id": "OFFsEBy31E4q"
      },
      "source": [
        "**Параметры векторизатора TfidfVectorizer**"
      ]
    },
    {
      "cell_type": "code",
      "metadata": {
        "id": "XeGVoNv8arWP",
        "colab_type": "code",
        "colab": {
          "base_uri": "https://localhost:8080/",
          "height": 53
        },
        "outputId": "20a0449a-b419-4c08-f7cb-853bcfb30f08"
      },
      "source": [
        "tf = TfidfVectorizer(max_features=1000, min_df=3, max_df=0.4, stop_words=stopwords.words('russian'))\n",
        "evaluation_model(tf)"
      ],
      "execution_count": null,
      "outputs": [
        {
          "output_type": "stream",
          "text": [
            "0.24834101734336886\n",
            "0.11292607789438358\n"
          ],
          "name": "stdout"
        }
      ]
    },
    {
      "cell_type": "markdown",
      "metadata": {
        "id": "j7d0O2b750Ug",
        "colab_type": "text"
      },
      "source": [
        "Использование в модели tfidf стоп-слов показывает лучший результат, чем в countvectorizer"
      ]
    },
    {
      "cell_type": "code",
      "metadata": {
        "id": "IKJdOqZy0oUa",
        "colab_type": "code",
        "colab": {
          "base_uri": "https://localhost:8080/",
          "height": 53
        },
        "outputId": "2fa5cca0-f138-4bac-c6d5-5d7fda92e28d"
      },
      "source": [
        "tf = TfidfVectorizer(max_features=7000, min_df=5, max_df=0.4, stop_words=stopwords.words('russian'))\n",
        "evaluation_model(tf)"
      ],
      "execution_count": null,
      "outputs": [
        {
          "output_type": "stream",
          "text": [
            "0.2477304343643191\n",
            "0.1172827194387881\n"
          ],
          "name": "stdout"
        }
      ]
    },
    {
      "cell_type": "markdown",
      "metadata": {
        "id": "J3FMGIlJ64fQ",
        "colab_type": "text"
      },
      "source": [
        "Увелечение фич улучшило результат."
      ]
    },
    {
      "cell_type": "code",
      "metadata": {
        "id": "Wg2asoX80cgI",
        "colab_type": "code",
        "colab": {
          "base_uri": "https://localhost:8080/",
          "height": 53
        },
        "outputId": "1210a05b-0ea4-4c0f-bfd4-b9a7dad1fdea"
      },
      "source": [
        "tf = TfidfVectorizer(max_features=7000, min_df=3, max_df=0.8, stop_words=stopwords.words('russian'))\n",
        "evaluation_model(tf)"
      ],
      "execution_count": null,
      "outputs": [
        {
          "output_type": "stream",
          "text": [
            "0.24774395146412548\n",
            "0.1171863880927102\n"
          ],
          "name": "stdout"
        }
      ]
    },
    {
      "cell_type": "markdown",
      "metadata": {
        "id": "rkJjvj6-6G3c",
        "colab_type": "text"
      },
      "source": [
        "При увелечении параметра максимальной частоты качество немного уменьшилось."
      ]
    }
  ]
}