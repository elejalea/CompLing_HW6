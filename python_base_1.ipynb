{
  "nbformat": 4,
  "nbformat_minor": 0,
  "metadata": {
    "colab": {
      "name": "python_base_1.ipynb",
      "provenance": [],
      "toc_visible": true,
      "include_colab_link": true
    },
    "kernelspec": {
      "display_name": "Python 3",
      "language": "python",
      "name": "python3"
    }
  },
  "cells": [
    {
      "cell_type": "markdown",
      "metadata": {
        "id": "view-in-github",
        "colab_type": "text"
      },
      "source": [
        "<a href=\"https://colab.research.google.com/github/elejalea/CompLing/blob/master/python_base_1.ipynb\" target=\"_parent\"><img src=\"https://colab.research.google.com/assets/colab-badge.svg\" alt=\"Open In Colab\"/></a>"
      ]
    },
    {
      "cell_type": "markdown",
      "metadata": {
        "collapsed": true,
        "id": "a2yLRRBfoW18"
      },
      "source": [
        "# Основы python\n",
        "- Много библиотек\n",
        "- Быстрая разработка, не надо следить за памятью\n",
        "- Кроссплатформенность\n",
        "- Качество ПО из-за самого языка\n",
        "- ООП, мощный\n",
        "- Свободный\n",
        "- Активно развивается\n",
        "- Красивый, минималистичный синтаксис\n",
        "- Скриптовый язык программирования, интерпретируемый а не компилируемый. Нужен интерпретатор для выполнения кода.      Но текст не компилируется, а транслируется в байт-код для интерпретатора. Это не машинный код.\n",
        "- Медленный. Есть cython. Библиотеки оптимизированы и алгоритмы написаны на С++\n",
        "- Без строгой типизации"
      ]
    },
    {
      "cell_type": "markdown",
      "metadata": {
        "id": "Drul2j2ZoW2B"
      },
      "source": [
        "## Импорты"
      ]
    },
    {
      "cell_type": "code",
      "metadata": {
        "id": "6VxS-P9LoW2F"
      },
      "source": [
        "import random"
      ],
      "execution_count": null,
      "outputs": []
    },
    {
      "cell_type": "code",
      "metadata": {
        "id": "iIzSlp87oW2S",
        "colab": {
          "base_uri": "https://localhost:8080/",
          "height": 36
        },
        "outputId": "7a43ae69-31ef-4be4-fa27-ba98ed0f2578"
      },
      "source": [
        "print (random.randint(0,10))"
      ],
      "execution_count": null,
      "outputs": [
        {
          "output_type": "stream",
          "text": [
            "3\n"
          ],
          "name": "stdout"
        }
      ]
    },
    {
      "cell_type": "code",
      "metadata": {
        "id": "lafYi_1XoW2Z"
      },
      "source": [
        "?random.randint"
      ],
      "execution_count": null,
      "outputs": []
    },
    {
      "cell_type": "code",
      "metadata": {
        "id": "R0A4GoTSoW2i"
      },
      "source": [
        "help(random)"
      ],
      "execution_count": null,
      "outputs": []
    },
    {
      "cell_type": "markdown",
      "metadata": {
        "id": "yWE7vOP0oW2p"
      },
      "source": [
        "## Типы данных. Все - объекты\n",
        "- Числа\n",
        "- Строки\n",
        "- Списки\n",
        "- Словари\n",
        "- Кортежи\n",
        "- Множества\n",
        "- Файлы\n",
        "- Прочие базовые типы: Сами типы, None, логические значения\n",
        "- Типы структурных элементов программ: Функции, модули, классы "
      ]
    },
    {
      "cell_type": "code",
      "metadata": {
        "id": "IzMLGDLkoW2r"
      },
      "source": [
        "string = 'test string;'\n",
        "String=\"test big String;\"\n",
        "print(string)\n",
        "print(String)"
      ],
      "execution_count": null,
      "outputs": []
    },
    {
      "cell_type": "code",
      "metadata": {
        "id": "FcSwbKfCoW2w"
      },
      "source": [
        "# зарезервированные слова\n",
        "# False class finally is return\n",
        "# None continue for lambda try\n",
        "# True def from nonlocal while\n",
        "# and del global not with\n",
        "# as elif if or yield\n",
        "# assert else import pass\n",
        "# break except in raise"
      ],
      "execution_count": null,
      "outputs": []
    },
    {
      "cell_type": "code",
      "metadata": {
        "id": "EafikpJ0oW26"
      },
      "source": [
        "res1=23\n",
        "1res=32"
      ],
      "execution_count": null,
      "outputs": []
    },
    {
      "cell_type": "code",
      "metadata": {
        "id": "SwBdkEsLoW3D"
      },
      "source": [
        "number1 = 3\n",
        "number2 = 4.34\n",
        "res = number1+number2\n",
        "print (res)"
      ],
      "execution_count": null,
      "outputs": []
    },
    {
      "cell_type": "code",
      "metadata": {
        "id": "S2Yei3dGoW3K"
      },
      "source": [
        "type(res)\n",
        "isinstance(res, float)"
      ],
      "execution_count": null,
      "outputs": []
    },
    {
      "cell_type": "code",
      "metadata": {
        "id": "l5RyX9PZoW3T"
      },
      "source": [
        "numberInt = 3\n",
        "numberFloat = 3.43\n",
        "numberComplex = 3+4j\n",
        "print(numberComplex*numberComplex)"
      ],
      "execution_count": null,
      "outputs": []
    },
    {
      "cell_type": "code",
      "metadata": {
        "id": "3xZ7B2v3oW3X"
      },
      "source": [
        "print(number1+string)"
      ],
      "execution_count": null,
      "outputs": []
    },
    {
      "cell_type": "code",
      "metadata": {
        "id": "T21kIGM1oW3e"
      },
      "source": [
        "print(number1*string)"
      ],
      "execution_count": null,
      "outputs": []
    },
    {
      "cell_type": "code",
      "metadata": {
        "id": "85gITnXBoW3k"
      },
      "source": [
        "stringNumber = '5.43'"
      ],
      "execution_count": null,
      "outputs": []
    },
    {
      "cell_type": "code",
      "metadata": {
        "id": "68lk5xvooW3q"
      },
      "source": [
        "res = stringNumber+number1\n",
        "print(res)"
      ],
      "execution_count": null,
      "outputs": []
    },
    {
      "cell_type": "code",
      "metadata": {
        "id": "qLrwzsZBoW3u"
      },
      "source": [
        "res = float(stringNumber)+number1\n",
        "print(res)"
      ],
      "execution_count": null,
      "outputs": []
    },
    {
      "cell_type": "code",
      "metadata": {
        "id": "-L3ENIcHoW3x"
      },
      "source": [
        "numStr = str(number2)\n",
        "print(numStr)\n",
        "type(numStr)"
      ],
      "execution_count": null,
      "outputs": []
    },
    {
      "cell_type": "code",
      "metadata": {
        "id": "bNE57kxGoW38"
      },
      "source": [
        "x = 'house'\n",
        "print(x)\n",
        "x = 3.43\n",
        "print(x)"
      ],
      "execution_count": null,
      "outputs": []
    },
    {
      "cell_type": "markdown",
      "metadata": {
        "id": "HFSNyD5loW4C"
      },
      "source": [
        "## Строки"
      ]
    },
    {
      "cell_type": "code",
      "metadata": {
        "id": "gDiYwKWIoW4E"
      },
      "source": [
        "string = \"Hello, world!\\n I am python string.\"\n",
        "print(string)"
      ],
      "execution_count": null,
      "outputs": []
    },
    {
      "cell_type": "code",
      "metadata": {
        "id": "1QmRoE8NoW4K"
      },
      "source": [
        "stringSplit = string.split('\\n')\n",
        "print(string)"
      ],
      "execution_count": null,
      "outputs": []
    },
    {
      "cell_type": "code",
      "metadata": {
        "id": "ySH4-sVzoW4P"
      },
      "source": [
        "sumStr = stringSplit[0]+stringSplit[1]\n",
        "print(sumStr)\n",
        "print(len(sumStr))"
      ],
      "execution_count": null,
      "outputs": []
    },
    {
      "cell_type": "code",
      "metadata": {
        "id": "5xCJ0InZoW4Z"
      },
      "source": [
        "letter = sumStr[4]\n",
        "print(letter)\n",
        "sumStr[1]='b'"
      ],
      "execution_count": null,
      "outputs": []
    },
    {
      "cell_type": "code",
      "metadata": {
        "id": "sxOKKJqioW4i"
      },
      "source": [
        "string = string.replace('.','!')\n",
        "print(string)"
      ],
      "execution_count": null,
      "outputs": []
    },
    {
      "cell_type": "code",
      "metadata": {
        "id": "DuQtzyofoW4n"
      },
      "source": [
        "print(sumStr[4]=='a')\n",
        "print(sumStr[4]=='o')"
      ],
      "execution_count": null,
      "outputs": []
    },
    {
      "cell_type": "code",
      "metadata": {
        "id": "NJFVQz6UoW4r"
      },
      "source": [
        "sumStr.find('o')"
      ],
      "execution_count": null,
      "outputs": []
    },
    {
      "cell_type": "markdown",
      "metadata": {
        "id": "YQLq5akpoW4z"
      },
      "source": [
        "## Коллекции"
      ]
    },
    {
      "cell_type": "code",
      "metadata": {
        "id": "BtvMyMUYoW40"
      },
      "source": [
        "arr = [1,2,3,4,5]\n",
        "tup = (1,2,3,4,5)\n",
        "dic = {1:\"one\", 2:'two', 3:'three', 4:\"four\", 5:\"five\"}\n",
        "set_ = {5,3,2,4,1}\n",
        "print (set_)"
      ],
      "execution_count": null,
      "outputs": []
    },
    {
      "cell_type": "code",
      "metadata": {
        "id": "0oFGh7osoW46"
      },
      "source": [
        "arr[4]=-1\n",
        "arr[0:3]=tup[2:5]\n",
        "print(arr)"
      ],
      "execution_count": null,
      "outputs": []
    },
    {
      "cell_type": "code",
      "metadata": {
        "id": "31U3Y0NjoW49"
      },
      "source": [
        "arr[4] = 'five'\n",
        "print(arr)"
      ],
      "execution_count": null,
      "outputs": []
    },
    {
      "cell_type": "code",
      "metadata": {
        "id": "c7G_fYwnoW5C"
      },
      "source": [
        "arr[0] = tup\n",
        "print(arr)\n",
        "print(arr[0][1])"
      ],
      "execution_count": null,
      "outputs": []
    },
    {
      "cell_type": "code",
      "metadata": {
        "id": "J3FLOmxSoW5G"
      },
      "source": [
        "arr = [5,4,3,2,1]\n",
        "print(arr)\n",
        "arr.append(10)\n",
        "print(arr)\n",
        "arr.remove(3)\n",
        "print(arr)\n",
        "arr.pop(1)\n",
        "print(arr)\n",
        "arr.reverse()\n",
        "print(arr)\n",
        "arr.sort()\n",
        "print(arr)"
      ],
      "execution_count": null,
      "outputs": []
    },
    {
      "cell_type": "code",
      "metadata": {
        "id": "69SXDx2VoW5K"
      },
      "source": [
        "d = dic[1]\n",
        "print(d)"
      ],
      "execution_count": null,
      "outputs": []
    },
    {
      "cell_type": "code",
      "metadata": {
        "id": "SQADjl7noW5O"
      },
      "source": [
        "d = dic[0]"
      ],
      "execution_count": null,
      "outputs": []
    },
    {
      "cell_type": "code",
      "metadata": {
        "id": "JBI4LWQuoW5Q"
      },
      "source": [
        "print(dic)\n",
        "dic['key']='value'\n",
        "print(dic)"
      ],
      "execution_count": null,
      "outputs": []
    },
    {
      "cell_type": "code",
      "metadata": {
        "id": "m4ooiEpQoW5S"
      },
      "source": [
        "print('key' in dic)\n",
        "print('key2' in dic)"
      ],
      "execution_count": null,
      "outputs": []
    },
    {
      "cell_type": "code",
      "metadata": {
        "id": "PcUvHDVooW5V"
      },
      "source": [
        "dic['key']"
      ],
      "execution_count": null,
      "outputs": []
    },
    {
      "cell_type": "code",
      "metadata": {
        "id": "DAU8Sc6RoW5a"
      },
      "source": [
        "print(list(dic))"
      ],
      "execution_count": null,
      "outputs": []
    },
    {
      "cell_type": "code",
      "metadata": {
        "id": "lZbL8A1roW5d"
      },
      "source": [
        "arr = ['zero', 'one','two','three','four']\n",
        "print(arr[2])"
      ],
      "execution_count": null,
      "outputs": []
    },
    {
      "cell_type": "code",
      "metadata": {
        "id": "IE9Gql2foW5i"
      },
      "source": [
        "print(arr[2:4])"
      ],
      "execution_count": null,
      "outputs": []
    },
    {
      "cell_type": "code",
      "metadata": {
        "id": "LvSfPqNyoW5l"
      },
      "source": [
        "print(arr[:2])"
      ],
      "execution_count": null,
      "outputs": []
    },
    {
      "cell_type": "code",
      "metadata": {
        "id": "J7yawBuJoW5v"
      },
      "source": [
        "print(arr[2:])"
      ],
      "execution_count": null,
      "outputs": []
    },
    {
      "cell_type": "code",
      "metadata": {
        "id": "G1TRKPuAoW5y"
      },
      "source": [
        "print(arr[:])"
      ],
      "execution_count": null,
      "outputs": []
    },
    {
      "cell_type": "code",
      "metadata": {
        "id": "J-k7VqFzoW51"
      },
      "source": [
        "print(arr[1:-2])"
      ],
      "execution_count": null,
      "outputs": []
    },
    {
      "cell_type": "code",
      "metadata": {
        "id": "WYyABpOyoW54"
      },
      "source": [
        "print(arr[1:4:2])"
      ],
      "execution_count": null,
      "outputs": []
    },
    {
      "cell_type": "code",
      "metadata": {
        "id": "17b5mg17oW57"
      },
      "source": [
        "set1 = {'one', 'two', 'three', 4, 5}\n",
        "set2 = {'three', 'four', 5, 6}\n",
        "print ('three' in set1) \n",
        "print (set1.intersection(set2))"
      ],
      "execution_count": null,
      "outputs": []
    },
    {
      "cell_type": "markdown",
      "metadata": {
        "id": "8KxzjS9boW5_"
      },
      "source": [
        "https://wiki.python.org/moin/TimeComplexity"
      ]
    },
    {
      "cell_type": "markdown",
      "metadata": {
        "id": "5jqyYs0xoW6A"
      },
      "source": [
        "## Преобразвание типов"
      ]
    },
    {
      "cell_type": "code",
      "metadata": {
        "id": "-KjYP7eWoW6B"
      },
      "source": [
        "print(str(1.53))"
      ],
      "execution_count": null,
      "outputs": []
    },
    {
      "cell_type": "code",
      "metadata": {
        "id": "7jfwe3SAoW6C"
      },
      "source": [
        "print(int(1.53))"
      ],
      "execution_count": null,
      "outputs": []
    },
    {
      "cell_type": "code",
      "metadata": {
        "id": "JQsh0t8RoW6G"
      },
      "source": [
        "print(round(1.53))"
      ],
      "execution_count": null,
      "outputs": []
    },
    {
      "cell_type": "code",
      "metadata": {
        "id": "NYgc599BoW6I"
      },
      "source": [
        "print(float(1))"
      ],
      "execution_count": null,
      "outputs": []
    },
    {
      "cell_type": "code",
      "metadata": {
        "id": "pike1GD0oW6W"
      },
      "source": [
        "print(float('1.53'))"
      ],
      "execution_count": null,
      "outputs": []
    },
    {
      "cell_type": "code",
      "metadata": {
        "id": "QgTyPIufoW6Z"
      },
      "source": [
        "print(int('1.53'))"
      ],
      "execution_count": null,
      "outputs": []
    },
    {
      "cell_type": "code",
      "metadata": {
        "id": "Y-zydMKFoW6g"
      },
      "source": [
        "arr = [1,2,3,4,5] \n",
        "print(arr)\n",
        "print(tuple(arr))"
      ],
      "execution_count": null,
      "outputs": []
    },
    {
      "cell_type": "code",
      "metadata": {
        "id": "avCprOU9oW6j"
      },
      "source": [
        "print(set(arr))"
      ],
      "execution_count": null,
      "outputs": []
    },
    {
      "cell_type": "code",
      "metadata": {
        "id": "4aFxS_ffoW6l"
      },
      "source": [
        "print(dict.fromkeys(arr))"
      ],
      "execution_count": null,
      "outputs": []
    },
    {
      "cell_type": "code",
      "metadata": {
        "id": "jPAaOvT_oW6p"
      },
      "source": [
        "print(dict(enumerate(arr)))"
      ],
      "execution_count": null,
      "outputs": []
    },
    {
      "cell_type": "code",
      "metadata": {
        "id": "Cw3N6uNJoW6r"
      },
      "source": [
        "dic = {1:\"one\", 2:'two', 3:'three', 4:\"four\", 5:\"five\"}\n",
        "print(list(dic))"
      ],
      "execution_count": null,
      "outputs": []
    },
    {
      "cell_type": "code",
      "metadata": {
        "id": "7ggje56eoW6v"
      },
      "source": [
        "set_ = {5,3,2,4,1}\n",
        "print(list(set_))"
      ],
      "execution_count": null,
      "outputs": []
    },
    {
      "cell_type": "code",
      "metadata": {
        "id": "XtFsXvNBoW62"
      },
      "source": [
        "letterArray = list(dic[2])\n",
        "print(letterArray)"
      ],
      "execution_count": null,
      "outputs": []
    },
    {
      "cell_type": "code",
      "metadata": {
        "id": "BqCQdjJUoW7A"
      },
      "source": [
        "print(''.join(['t', 'w', 'o']))"
      ],
      "execution_count": null,
      "outputs": []
    },
    {
      "cell_type": "code",
      "metadata": {
        "id": "7IQO2JFBoW7F"
      },
      "source": [
        "array2d= [[10,20], [30,40], ['key',50]]\n",
        "print(dict(array2d))"
      ],
      "execution_count": null,
      "outputs": []
    },
    {
      "cell_type": "markdown",
      "metadata": {
        "id": "fnS7VmXyoW7H"
      },
      "source": [
        "## Каждая переменная - это ссылка"
      ]
    },
    {
      "cell_type": "code",
      "metadata": {
        "id": "1sJeWd4DoW7K",
        "colab": {
          "base_uri": "https://localhost:8080/",
          "height": 36
        },
        "outputId": "35aec680-8890-4861-b703-9641a99dc601"
      },
      "source": [
        "x = 1\n",
        "y = x\n",
        "y = 2\n",
        "print(x)"
      ],
      "execution_count": null,
      "outputs": [
        {
          "output_type": "stream",
          "text": [
            "1\n"
          ],
          "name": "stdout"
        }
      ]
    },
    {
      "cell_type": "code",
      "metadata": {
        "id": "4Dl6dE77oW7M"
      },
      "source": [
        "x = [1,1,1]\n",
        "y = x\n",
        "y[0] = 0\n",
        "print(x)"
      ],
      "execution_count": null,
      "outputs": []
    },
    {
      "cell_type": "code",
      "metadata": {
        "id": "k1zzv9AdoW7S"
      },
      "source": [
        "x = [1,1,1]\n",
        "y = x[:]\n",
        "y[0] = 0\n",
        "print(x)"
      ],
      "execution_count": null,
      "outputs": []
    },
    {
      "cell_type": "code",
      "metadata": {
        "id": "okAtLwbWoW7U"
      },
      "source": [
        "ones = [1,1,1]\n",
        "dic = {\"one\": ones}\n",
        "print(dic)\n",
        "ones.append(0)\n",
        "print(dic)"
      ],
      "execution_count": null,
      "outputs": []
    },
    {
      "cell_type": "code",
      "metadata": {
        "id": "p2-W0QSVoW7X"
      },
      "source": [
        "ones = [1,1,1]\n",
        "dic = {\"one\": ones}\n",
        "print(dic)\n",
        "ones = [0,0,0]\n",
        "print(dic)"
      ],
      "execution_count": null,
      "outputs": []
    },
    {
      "cell_type": "code",
      "metadata": {
        "id": "O9QnsB8OoW7b"
      },
      "source": [
        "dic1 = {\"one\": 1, \"two\": 2}\n",
        "dic2 = dic1.copy()\n",
        "dic2[\"one\"] = 0\n",
        "print(dic1)\n",
        "print(dic2)"
      ],
      "execution_count": null,
      "outputs": []
    },
    {
      "cell_type": "code",
      "metadata": {
        "id": "zNmYEFa2oW7d"
      },
      "source": [
        "ones = [1,1,1]\n",
        "dic1 = {\"one\": ones}\n",
        "dic2 = dic1.copy()\n",
        "ones.append(0)\n",
        "print(dic1)\n",
        "print(dic2)"
      ],
      "execution_count": null,
      "outputs": []
    },
    {
      "cell_type": "code",
      "metadata": {
        "id": "NUZybpkloW7e"
      },
      "source": [
        "from copy import deepcopy\n",
        "ones = [1,1,1]\n",
        "dic1 = {\"one\": ones}\n",
        "dic2 = deepcopy(dic1)\n",
        "ones.append(0)\n",
        "print(dic1)\n",
        "print(dic2)"
      ],
      "execution_count": null,
      "outputs": []
    },
    {
      "cell_type": "markdown",
      "metadata": {
        "id": "bEQwEiufoW7g"
      },
      "source": [
        "### Неизменяемые типы:\n",
        " - числовые данные (int, float, complex)\n",
        " - строки (class 'str')\n",
        " - кортежи (tuple)\n",
        "### Изменяемые типы:\n",
        " - списки (list)\n",
        " - множества (set)\n",
        " - словари (dict)\n",
        " - другие типы"
      ]
    },
    {
      "cell_type": "markdown",
      "metadata": {
        "id": "K-B9uE5koW7h"
      },
      "source": [
        "## Циклы"
      ]
    },
    {
      "cell_type": "code",
      "metadata": {
        "id": "fajTv_msoW7i"
      },
      "source": [
        "arr = [1,2,3,4,5]\n",
        "for i in range(0,len(arr)):\n",
        "    arr[i] = arr[i]+1\n",
        "print(arr)"
      ],
      "execution_count": null,
      "outputs": []
    },
    {
      "cell_type": "code",
      "metadata": {
        "id": "gAHqRhDUoW7u"
      },
      "source": [
        "arr = [[1,2,3,4,5], [10,20,30,40,50], [100,200,300,400,500,600]]\n",
        "for i in range(len(arr)):\n",
        "    for j in range(len(arr[i])):\n",
        "        arr[i][j] +=1\n",
        "print(arr)"
      ],
      "execution_count": null,
      "outputs": []
    },
    {
      "cell_type": "code",
      "metadata": {
        "id": "sHA1ak6WoW75"
      },
      "source": [
        "for a1 in arr:\n",
        "    print(a1)\n",
        "    for a2 in a1:\n",
        "        print(a2)"
      ],
      "execution_count": null,
      "outputs": []
    },
    {
      "cell_type": "code",
      "metadata": {
        "id": "JJZC3WxXoW7-"
      },
      "source": [
        "arr = ['zero', 'one','two','three','four']\n",
        "d = {}\n",
        "for a in arr:\n",
        "    d[a]=random.randint(0,10)\n",
        "print(d)"
      ],
      "execution_count": null,
      "outputs": []
    },
    {
      "cell_type": "code",
      "metadata": {
        "id": "3l8SJw4koW8D"
      },
      "source": [
        "k=0\n",
        "while k<10:\n",
        "    print(k)\n",
        "    k+=1"
      ],
      "execution_count": null,
      "outputs": []
    },
    {
      "cell_type": "code",
      "metadata": {
        "id": "FwCfm47doW8E"
      },
      "source": [
        "for id, item in enumerate(arr):\n",
        "    print(id)\n",
        "    print(item)"
      ],
      "execution_count": null,
      "outputs": []
    },
    {
      "cell_type": "markdown",
      "metadata": {
        "id": "x-ukzNtBoW8G"
      },
      "source": [
        "## Условный оператор"
      ]
    },
    {
      "cell_type": "code",
      "metadata": {
        "collapsed": true,
        "id": "PahghBJuoW8G"
      },
      "source": [
        "a  = False\n",
        "if a:\n",
        "    print(\"inside\")"
      ],
      "execution_count": null,
      "outputs": []
    },
    {
      "cell_type": "code",
      "metadata": {
        "id": "oo3r_yi4oW8c"
      },
      "source": [
        "a = random.randint(1,10)\n",
        "print(a)\n",
        "if a>5:\n",
        "    print(\"big\")\n",
        "else:\n",
        "    print(\"small\")"
      ],
      "execution_count": null,
      "outputs": []
    },
    {
      "cell_type": "code",
      "metadata": {
        "id": "omRxeoJIoW8f"
      },
      "source": [
        "a = random.randint(1,10)\n",
        "print(a)\n",
        "if a<2:\n",
        "    print(\"small\")\n",
        "elif a>=2 and a<6:\n",
        "    print(\"middle\")\n",
        "else:\n",
        "    print(\"big\")\n",
        "    "
      ],
      "execution_count": null,
      "outputs": []
    },
    {
      "cell_type": "code",
      "metadata": {
        "id": "UjQFD9xjoW8h"
      },
      "source": [
        "for i in range(0,20):\n",
        "    a = random.randint(1,10)\n",
        "    print(a)\n",
        "    if a<2:\n",
        "        print(\"small\")\n",
        "    elif a>=2 and a<6:\n",
        "        print(\"middle\")\n",
        "    else:\n",
        "        print(\"big\")"
      ],
      "execution_count": null,
      "outputs": []
    },
    {
      "cell_type": "code",
      "metadata": {
        "id": "AbvLwsVBoW8j"
      },
      "source": [
        "while True:\n",
        "    a = random.randint(1,10)\n",
        "    print(a)\n",
        "    if a<2:\n",
        "        print(\"small\")\n",
        "        break\n",
        "    elif a>=2 and a<6:\n",
        "        print(\"middle\")\n",
        "    else:\n",
        "        print(\"big\")        "
      ],
      "execution_count": null,
      "outputs": []
    },
    {
      "cell_type": "code",
      "metadata": {
        "id": "W-1yP0NMoW8n"
      },
      "source": [
        "while True:\n",
        "    a = random.randint(1,10)\n",
        "    print(a)\n",
        "    if a<2:\n",
        "        print(\"small\")\n",
        "        break\n",
        "    elif a>=2 and a<6:        \n",
        "        print(\"before continue\")\n",
        "        continue\n",
        "        print(\"middle\")\n",
        "    else:\n",
        "        print(\"big\")  "
      ],
      "execution_count": null,
      "outputs": []
    },
    {
      "cell_type": "code",
      "metadata": {
        "id": "RBk_Gm85oW8s"
      },
      "source": [
        "a=3.21\n",
        "if a==3.2100:\n",
        "    print ('equal')"
      ],
      "execution_count": null,
      "outputs": []
    },
    {
      "cell_type": "code",
      "metadata": {
        "id": "tAajfBTWoW8t"
      },
      "source": [
        "a=3.21\n",
        "if a!=4.2:\n",
        "    print ('not equal')"
      ],
      "execution_count": null,
      "outputs": []
    },
    {
      "cell_type": "code",
      "metadata": {
        "id": "W7wU_fxgoW8x"
      },
      "source": [
        "a=3.21\n",
        "if a!='3.21':\n",
        "    print ('not equal')"
      ],
      "execution_count": null,
      "outputs": []
    },
    {
      "cell_type": "code",
      "metadata": {
        "id": "mPT4mZhFoW8y"
      },
      "source": [
        "a = False\n",
        "if not a:\n",
        "    print (\"inside\")\n",
        "    "
      ],
      "execution_count": null,
      "outputs": []
    },
    {
      "cell_type": "code",
      "metadata": {
        "id": "EGZ9RQ3joW80"
      },
      "source": [
        "a = False\n",
        "b = 1\n",
        "c = 100\n",
        "if a or b:\n",
        "    print ('a or b true')"
      ],
      "execution_count": null,
      "outputs": []
    },
    {
      "cell_type": "code",
      "metadata": {
        "id": "sgQCC6rcoW81"
      },
      "source": [
        "if a or c:\n",
        "    print ('a or c true')"
      ],
      "execution_count": null,
      "outputs": []
    },
    {
      "cell_type": "code",
      "metadata": {
        "id": "4aoftMcwoW83"
      },
      "source": [
        "if a | c:\n",
        "    print ('a|c true')"
      ],
      "execution_count": null,
      "outputs": []
    },
    {
      "cell_type": "code",
      "metadata": {
        "collapsed": true,
        "id": "zkxBI_laoW85"
      },
      "source": [
        "if a and b and c:\n",
        "    print ('a and b and c true')"
      ],
      "execution_count": null,
      "outputs": []
    },
    {
      "cell_type": "markdown",
      "metadata": {
        "id": "_ymbr-96oW86"
      },
      "source": [
        "## Функции"
      ]
    },
    {
      "cell_type": "code",
      "metadata": {
        "collapsed": true,
        "id": "klflKfkLoW86"
      },
      "source": [
        "import math\n",
        "\n",
        "def sigmoid(x):\n",
        "    y = 1/(1+math.exp(-x))\n",
        "    return y"
      ],
      "execution_count": null,
      "outputs": []
    },
    {
      "cell_type": "code",
      "metadata": {
        "id": "BOxYzHFvoW89"
      },
      "source": [
        "res = sigmoid(6)\n",
        "print(res)"
      ],
      "execution_count": null,
      "outputs": []
    },
    {
      "cell_type": "code",
      "metadata": {
        "id": "6sCjnZsjoW8-"
      },
      "source": [
        "print(type(sigmoid))"
      ],
      "execution_count": null,
      "outputs": []
    },
    {
      "cell_type": "code",
      "metadata": {
        "id": "VLPuckXkoW8_"
      },
      "source": [
        "res = sigmoid(x=6)\n",
        "print(res)"
      ],
      "execution_count": null,
      "outputs": []
    },
    {
      "cell_type": "code",
      "metadata": {
        "id": "m859B18NoW9B"
      },
      "source": [
        "def sigmoid(x=2):\n",
        "    y = 1/(1+math.exp(-x))\n",
        "    return y\n",
        "print(sigmoid)"
      ],
      "execution_count": null,
      "outputs": []
    },
    {
      "cell_type": "code",
      "metadata": {
        "id": "TIKVl7b1oW9C"
      },
      "source": [
        "def euclid(x,y):    \n",
        "    summ = 0\n",
        "    for i in range(0,len(x)):\n",
        "        t = (x[i]-y[i])**2\n",
        "        summ+=t\n",
        "    return math.sqrt(summ)\n",
        "\n",
        "print(euclid([0,1,0,1], [2,0,1,1]))\n",
        "print(euclid([0,1,0,1], [0,1,0,2]))\n",
        "        "
      ],
      "execution_count": null,
      "outputs": []
    },
    {
      "cell_type": "code",
      "metadata": {
        "id": "AAtCocFhoW9E"
      },
      "source": [
        "def sumAndProd(x,y):\n",
        "    res1 = []\n",
        "    res2 = []\n",
        "    for i in range(len(x)):\n",
        "        res1.append(x[i]+y[i])\n",
        "        res2.append(x[i]*y[i])\n",
        "    return res1, res2\n",
        "res = sumAndProd([1,2,3], range(0,3))\n",
        "print(res)\n"
      ],
      "execution_count": null,
      "outputs": []
    },
    {
      "cell_type": "code",
      "metadata": {
        "id": "DYfvleKcoW9F"
      },
      "source": [
        "res1, res2 = sumAndProd([1,2,3], range(0,3))\n",
        "print(res1)\n",
        "print(res2)"
      ],
      "execution_count": null,
      "outputs": []
    },
    {
      "cell_type": "code",
      "metadata": {
        "id": "EKx2NBGpoW9H"
      },
      "source": [
        "def sumAndProd(x,y):\n",
        "    for i in range(len(x)):\n",
        "        t1=x[i]+y[i]\n",
        "        t2 = x[i]*y[i]\n",
        "        x[i] = t1\n",
        "        y[i] = t2\n",
        "    return\n",
        "x = [1,2,3]\n",
        "y = [1,2,3]\n",
        "res = sumAndProd(x,y)\n",
        "print(res)\n",
        "print(x)\n",
        "print(y)\n",
        "print(sumAndProd)"
      ],
      "execution_count": null,
      "outputs": []
    },
    {
      "cell_type": "markdown",
      "metadata": {
        "id": "CbkRg5yKoW9J"
      },
      "source": [
        "## Области видимости: "
      ]
    },
    {
      "cell_type": "code",
      "metadata": {
        "id": "WBbcGrYyoW9J"
      },
      "source": [
        "a = 10\n",
        "def add(x):\n",
        "    return x+a\n",
        "print(add(1))"
      ],
      "execution_count": null,
      "outputs": []
    },
    {
      "cell_type": "code",
      "metadata": {
        "id": "G-2UjbPHoW9L"
      },
      "source": [
        "a = 10\n",
        "def add(x):\n",
        "    a = 5\n",
        "    return x+a\n",
        "print(add(1))\n",
        "print(a)"
      ],
      "execution_count": null,
      "outputs": []
    },
    {
      "cell_type": "code",
      "metadata": {
        "id": "he92Sdl1oW9N"
      },
      "source": [
        "a = 10\n",
        "def addAdd(x):\n",
        "    a = 3\n",
        "    def add(x):        \n",
        "        return x+a    \n",
        "    res = add(x+a)\n",
        "    return res\n",
        "    \n",
        "print(addAdd(1))\n",
        "print(a)"
      ],
      "execution_count": null,
      "outputs": []
    },
    {
      "cell_type": "markdown",
      "metadata": {
        "id": "QI0bB-q8oW9O"
      },
      "source": [
        "### Порядок поиска переменной:\n",
        "1. Локальная область видимости (функция)\n",
        "2. Локальные области видимости объемлющих функци\n",
        "3. Глобальная область видимости (модуль)\n",
        "4. Встроенные имена"
      ]
    },
    {
      "cell_type": "code",
      "metadata": {
        "id": "ugtItNAeoW9O"
      },
      "source": [
        "a = 10\n",
        "def f(x):\n",
        "    global a\n",
        "    a=x\n",
        "    return\n",
        "f(1)\n",
        "print(a)"
      ],
      "execution_count": null,
      "outputs": []
    },
    {
      "cell_type": "markdown",
      "metadata": {
        "id": "IbtJbyMDoW9Q"
      },
      "source": [
        "## Классы"
      ]
    },
    {
      "cell_type": "code",
      "metadata": {
        "id": "jH2UgjyeoW9R"
      },
      "source": [
        "class Vehicle:\n",
        "    speed = 10\n",
        "    mass = 100\n",
        "\n",
        "v1 = Vehicle()\n",
        "v2 = Vehicle()\n",
        "print(v1)\n",
        "print(v1.speed)\n",
        "print(v2.speed)\n",
        "v1.color = 'red'\n",
        "v2.color = 'white'\n",
        "print(v1.color)\n",
        "print(v2.color)"
      ],
      "execution_count": null,
      "outputs": []
    },
    {
      "cell_type": "code",
      "metadata": {
        "id": "nr6aFOS0oW9T"
      },
      "source": [
        "class Vehicle:\n",
        "    speed = 10\n",
        "    mass = 100\n",
        "    def getEnergy(self):\n",
        "        return self.mass*self.speed**2/2\n",
        "v = Vehicle()\n",
        "print(v.getEnergy())\n",
        "v.speed = 20\n",
        "print(v.getEnergy())"
      ],
      "execution_count": null,
      "outputs": []
    },
    {
      "cell_type": "code",
      "metadata": {
        "id": "9MsgIs-aoW9U"
      },
      "source": [
        "class Vehicle:\n",
        "    def __init__(self, mass):\n",
        "        self.mass = mass\n",
        "    def setSpeed(self, speed):\n",
        "        self.speed = speed\n",
        "    def getEnergy(self):\n",
        "        return self.mass*self.speed**2/2\n",
        "v = Vehicle(100)\n",
        "v.setSpeed(20)\n",
        "print(v.getEnergy())"
      ],
      "execution_count": null,
      "outputs": []
    },
    {
      "cell_type": "code",
      "metadata": {
        "id": "gLVw77gOoW9W"
      },
      "source": [
        "class Vehicle:\n",
        "    def __init__(self, mass):\n",
        "        self.mass = mass\n",
        "    def setSpeed(self, speed):\n",
        "        self.speed = speed\n",
        "    def getEnergy(self):\n",
        "        return self.mass*self.speed**2/2\n",
        "    def isCrashed(self):\n",
        "        if self.getEnergy()>15000:\n",
        "            return True\n",
        "        else:\n",
        "            return False\n",
        "vehicles = []\n",
        "for i in range(0,10):\n",
        "    v = Vehicle(100)\n",
        "    speed = random.randint(10,20)\n",
        "    print(\"speed: \"+str(speed))\n",
        "    v.setSpeed(speed)\n",
        "    print(v.isCrashed())\n",
        "    vehicles.append(v1)"
      ],
      "execution_count": null,
      "outputs": []
    },
    {
      "cell_type": "code",
      "metadata": {
        "id": "AekC-2droW9X"
      },
      "source": [
        "class Vehicle:\n",
        "    def __init__(self, mass):\n",
        "        self.mass = mass\n",
        "    def setSpeed(self, speed):\n",
        "        self.speed = speed\n",
        "    def getEnergy(self):\n",
        "        return self.mass*self.speed**2/2\n",
        "    def isCrashed(self):\n",
        "        if self.getEnergy()>15000:\n",
        "            return True\n",
        "        else:\n",
        "            return False\n",
        "    def __str__(self):\n",
        "        if self.isCrashed():\n",
        "            return \"vehicle crashed, speed: \"+str(self.speed)\n",
        "        else:\n",
        "            return \"vehicle run, speed: \"+str(self.speed)\n",
        "vehicles = []\n",
        "for i in range(0,10):\n",
        "    v = Vehicle(100)\n",
        "    speed = random.randint(10,20)   \n",
        "    v.setSpeed(speed)\n",
        "    vehicles.append(v)\n",
        "for v in vehicles:\n",
        "    print(v)"
      ],
      "execution_count": null,
      "outputs": []
    },
    {
      "cell_type": "code",
      "metadata": {
        "collapsed": true,
        "id": "uCUtAEJDoW9Y"
      },
      "source": [
        "class Tank(Vehicle):\n",
        "    def __init__(self, mass, defencePower):\n",
        "        Vehicle.__init__(self, mass)\n",
        "        self.defencePower=defencePower\n",
        "    def isCrashed(self):\n",
        "        if self.getEnergy()>15000*self.defencePower:\n",
        "            return True\n",
        "        else:\n",
        "            return False\n",
        "    def __str__(self):\n",
        "        if self.isCrashed():\n",
        "            return \"tank crashed, speed: \"+str(self.speed)\n",
        "        else:\n",
        "            return \"tank run, speed: \"+str(self.speed)"
      ],
      "execution_count": null,
      "outputs": []
    },
    {
      "cell_type": "code",
      "metadata": {
        "id": "L5idHaxQoW9Z"
      },
      "source": [
        "vehicles = []\n",
        "for i in range(0,10):\n",
        "    v = Vehicle(100)\n",
        "    t = Tank(100,2)\n",
        "    speed = random.randint(10,20)   \n",
        "    v.setSpeed(speed)\n",
        "    t.setSpeed(speed)\n",
        "    vehicles.append(v)\n",
        "    vehicles.append(t)\n",
        "for v in vehicles:\n",
        "    print(v)"
      ],
      "execution_count": null,
      "outputs": []
    },
    {
      "cell_type": "markdown",
      "metadata": {
        "id": "IrtfcuxooW9b"
      },
      "source": [
        "### Как укоротить код? \n"
      ]
    },
    {
      "cell_type": "code",
      "metadata": {
        "id": "Oi2QqWXIoW9b"
      },
      "source": [
        "class Vehicle:\n",
        "    def __init__(self, mass):\n",
        "        self.mass = mass\n",
        "        self.name='vehicle'\n",
        "    def setSpeed(self, speed):\n",
        "        self.speed = speed\n",
        "    def getEnergy(self):\n",
        "        return self.mass*self.speed**2/2\n",
        "    def isCrashed(self):\n",
        "        if self.getEnergy()>15000:\n",
        "            return True\n",
        "        else:\n",
        "            return False\n",
        "    def gas(self):\n",
        "        self.speed+=5\n",
        "    def __str__(self):\n",
        "        if self.isCrashed():\n",
        "            return self.name+\" crashed, speed: \"+str(self.speed)\n",
        "        else:\n",
        "            return self.name+\" run, speed: \"+str(self.speed)\n",
        "class Tank(Vehicle):\n",
        "    def __init__(self, mass, defencePower):\n",
        "        Vehicle.__init__(self, mass)\n",
        "        self.defencePower=defencePower\n",
        "        self.name='tank'\n",
        "    def gas(self):\n",
        "        self.speed+=1\n",
        "    def isCrashed(self):\n",
        "        if self.getEnergy()>15000*self.defencePower:\n",
        "            return True\n",
        "        else:\n",
        "            return False\n",
        "class Ferrari(Vehicle):\n",
        "    def __init__(self, mass):\n",
        "        Vehicle.__init__(self, mass)\n",
        "        self.name='ferrari'\n",
        "    def gas(self):\n",
        "        self.speed+=10\n",
        "vehicles = []\n",
        "for i in range(0,10):\n",
        "    v = Vehicle(100)\n",
        "    t = Tank(100,2)\n",
        "    f = Ferrari(100)\n",
        "    speed = random.randint(10,20)   \n",
        "    v.setSpeed(speed)\n",
        "    t.setSpeed(speed)\n",
        "    vehicles.append(v)\n",
        "    vehicles.append(t)\n",
        "for v in vehicles:\n",
        "    print(v)\n",
        "print(\"gas\")\n",
        "for v in vehicles:\n",
        "    v.gas()\n",
        "    print(v)"
      ],
      "execution_count": null,
      "outputs": []
    },
    {
      "cell_type": "markdown",
      "metadata": {
        "id": "w0XGXSoEoW9e"
      },
      "source": [
        "## Пакеты и модули"
      ]
    },
    {
      "cell_type": "code",
      "metadata": {
        "id": "6nexPADqoje2"
      },
      "source": [
        "!mkdir vechiclesPackage"
      ],
      "execution_count": null,
      "outputs": []
    },
    {
      "cell_type": "code",
      "metadata": {
        "id": "kC3OxAtCoW9e"
      },
      "source": [
        "import random\n",
        "# import vechicles\n",
        "# import vechicles as vh\n",
        "# from vechicles import *\n",
        "# from vechicles import Vehicle, Tank, Ferrari\n",
        "from vechiclesPackage import vechicle, ferrari, tank"
      ],
      "execution_count": null,
      "outputs": []
    },
    {
      "cell_type": "code",
      "metadata": {
        "id": "-s0jPUEroW9g"
      },
      "source": [
        "vehicles = []\n",
        "for i in range(0,10):\n",
        "    v = vechicle.Vehicle(100)\n",
        "    t = tank.Tank(100,2)\n",
        "    f = ferrari.Ferrari(100)\n",
        "    speed = random.randint(10,20)   \n",
        "    v.setSpeed(speed)\n",
        "    t.setSpeed(speed)\n",
        "    vehicles.append(v)\n",
        "    vehicles.append(t)\n",
        "for v in vehicles:\n",
        "    print(v)\n",
        "print(\"gas\")\n",
        "for v in vehicles:\n",
        "    v.gas()\n",
        "    print(v)"
      ],
      "execution_count": null,
      "outputs": []
    },
    {
      "cell_type": "markdown",
      "metadata": {
        "collapsed": true,
        "id": "G4gZn4yooW9h"
      },
      "source": [
        "## Исключения"
      ]
    },
    {
      "cell_type": "code",
      "metadata": {
        "id": "NPSf1NB5oW9i"
      },
      "source": [
        "def sigmoid(x=2):\n",
        "    y = 1/(1+math.exp(-x))\n",
        "    return y\n",
        "print(sigmoid('one'))"
      ],
      "execution_count": null,
      "outputs": []
    },
    {
      "cell_type": "code",
      "metadata": {
        "id": "zRKG7qELoW9k"
      },
      "source": [
        "def sigmoid(x=2):\n",
        "    try:\n",
        "        y = 1/(1+math.exp(-x))  \n",
        "    except Exception as e:\n",
        "        print(e)\n",
        "        y=-1\n",
        "    return y\n",
        "print(sigmoid('one'))"
      ],
      "execution_count": null,
      "outputs": []
    },
    {
      "cell_type": "code",
      "metadata": {
        "id": "2xO2pCnFoW9l"
      },
      "source": [
        "def sigmoid(x=2):\n",
        "    if isinstance(x,float) or isinstance(x,int):\n",
        "        y = 1/(1+math.exp(-x))\n",
        "    else:\n",
        "        y=0\n",
        "    return y\n",
        "print(sigmoid(1))"
      ],
      "execution_count": null,
      "outputs": []
    },
    {
      "cell_type": "code",
      "metadata": {
        "id": "PvAwKjHLoW9n"
      },
      "source": [
        "def sigmoid(x=2):\n",
        "    if isinstance(x,float) or isinstance(x,int):\n",
        "        y = 1/(1+math.exp(-x))\n",
        "    else:\n",
        "        raise(Exception('x must be float or int'))\n",
        "    return y\n",
        "print(sigmoid('one'))"
      ],
      "execution_count": null,
      "outputs": []
    },
    {
      "cell_type": "markdown",
      "metadata": {
        "id": "TXAz8yvSoW9p"
      },
      "source": [
        "## Генераторы"
      ]
    },
    {
      "cell_type": "markdown",
      "metadata": {
        "id": "XfDLBtFfoW9p"
      },
      "source": [
        "### List comprehension. Генераторы списков"
      ]
    },
    {
      "cell_type": "code",
      "metadata": {
        "id": "D21W6V2NoW9p"
      },
      "source": [
        "listComprehension = [x*2 for x in range(0,10)]\n",
        "print(listComprehension)"
      ],
      "execution_count": null,
      "outputs": []
    },
    {
      "cell_type": "code",
      "metadata": {
        "id": "hIqmGXT7oW9r"
      },
      "source": [
        "print(10//3)\n",
        "print(10%3)"
      ],
      "execution_count": null,
      "outputs": []
    },
    {
      "cell_type": "code",
      "metadata": {
        "id": "MKSkYSfhoW9u"
      },
      "source": [
        "listComprehension = [x*2 for x in range(0,10) if x%3==0]\n",
        "print(listComprehension)"
      ],
      "execution_count": null,
      "outputs": []
    },
    {
      "cell_type": "markdown",
      "metadata": {
        "id": "Ej9YuS1zoW9v"
      },
      "source": [
        "### Функции - генераторы"
      ]
    },
    {
      "cell_type": "code",
      "metadata": {
        "id": "y6NVmUgxoW9v"
      },
      "source": [
        "def generator():\n",
        "    i=0\n",
        "    while True:\n",
        "        i = i + 1\n",
        "        res = i**2\n",
        "        yield res\n",
        "g = generator()\n",
        "for i in range(0,5):\n",
        "    print(next(g))"
      ],
      "execution_count": null,
      "outputs": []
    },
    {
      "cell_type": "code",
      "metadata": {
        "id": "RxYCuCAJoW9y"
      },
      "source": [
        "def generator():\n",
        "    while True:\n",
        "        r1 = random.randint(0,10)\n",
        "        r2 = random.randint(0,10)        \n",
        "        yield r1, r2\n",
        "g = generator()\n",
        "for i in range(0,5):\n",
        "    print(next(g))"
      ],
      "execution_count": null,
      "outputs": []
    },
    {
      "cell_type": "markdown",
      "metadata": {
        "id": "IA0kBn-MoW9z"
      },
      "source": [
        "## Файлы"
      ]
    },
    {
      "cell_type": "code",
      "metadata": {
        "id": "zOgfWqKRoW90"
      },
      "source": [
        "f = open('techno.txt','r')\n",
        "lines = f.readlines()\n",
        "f.close()\n",
        "print(lines[0])\n",
        "print(lines[4])\n",
        "\n",
        "\n",
        "\n"
      ],
      "execution_count": null,
      "outputs": []
    },
    {
      "cell_type": "code",
      "metadata": {
        "id": "I6oHDUOkoW93"
      },
      "source": [
        "#менеджер контекста\n",
        "with open('techno.txt','r') as f:\n",
        "    text = f.read()\n",
        "print(text)"
      ],
      "execution_count": null,
      "outputs": []
    },
    {
      "cell_type": "code",
      "metadata": {
        "collapsed": true,
        "id": "uYbpFngmoW95"
      },
      "source": [
        "f = open('result1.txt', 'w')\n",
        "for i in range(0,10):\n",
        "    f.write(str(random.randint(0,10))+'\\n')"
      ],
      "execution_count": null,
      "outputs": []
    },
    {
      "cell_type": "code",
      "metadata": {
        "collapsed": true,
        "id": "QSmUu1LJoW98"
      },
      "source": [
        "f = open('result1.txt', 'w')\n",
        "for i in range(0,10):\n",
        "    f.write(str(random.randint(0,10))+'\\n')\n",
        "f.close()"
      ],
      "execution_count": null,
      "outputs": []
    },
    {
      "cell_type": "code",
      "metadata": {
        "collapsed": true,
        "id": "N0GuGSzOoW-J"
      },
      "source": [
        "with open('result2.txt', 'w') as f:\n",
        "    for i in range(0,10):\n",
        "        f.write(str(random.randint(0,10))+'\\n')"
      ],
      "execution_count": null,
      "outputs": []
    },
    {
      "cell_type": "markdown",
      "metadata": {
        "id": "NFunbHGuoW-L"
      },
      "source": [
        "## Обход файлов"
      ]
    },
    {
      "cell_type": "code",
      "metadata": {
        "id": "2eSv15y7oW-M"
      },
      "source": [
        "import glob\n",
        "path = 'E:/Course/1_python/images/'\n",
        "images = glob.glob(path + \"*.jpg\")\n",
        "for i in range(10):\n",
        "    print(images[i])"
      ],
      "execution_count": null,
      "outputs": []
    },
    {
      "cell_type": "code",
      "metadata": {
        "collapsed": true,
        "id": "2Oq56kldoW-O"
      },
      "source": [
        "import os\n",
        "resPath = 'result'\n",
        "if not os.path.exists(resPath):\n",
        "    os.makedirs(resPath)"
      ],
      "execution_count": null,
      "outputs": []
    },
    {
      "cell_type": "code",
      "metadata": {
        "id": "9Nt_aiPfoW-Q"
      },
      "source": [
        "folder = os.listdir(path)\n",
        "print(folder)"
      ],
      "execution_count": null,
      "outputs": []
    },
    {
      "cell_type": "code",
      "metadata": {
        "id": "LqOgdsgdoW-R"
      },
      "source": [
        "print(len(folder))\n",
        "for index, f in enumerate(folder):\n",
        "    fullPath = path+f \n",
        "    if index%3==0:\n",
        "        print(fullPath)"
      ],
      "execution_count": null,
      "outputs": []
    },
    {
      "cell_type": "markdown",
      "metadata": {
        "id": "fpk_2HM2oW-T"
      },
      "source": [
        "## Еще про рандом"
      ]
    },
    {
      "cell_type": "code",
      "metadata": {
        "id": "EgdrMgYRoW-U"
      },
      "source": [
        "random.seed(41)\n",
        "data = ['a', 'b', 'c', 'd', 'e', 'f']\n",
        "print(data)\n",
        "random.shuffle(data)\n",
        "print(data)\n",
        "random.shuffle(data)\n",
        "print(data)\n",
        "print(random.randrange(0, 100, 5))"
      ],
      "execution_count": null,
      "outputs": []
    },
    {
      "cell_type": "markdown",
      "metadata": {
        "id": "hvO0cS1AoW-V"
      },
      "source": [
        "## Еще про аргументы"
      ]
    },
    {
      "cell_type": "code",
      "metadata": {
        "id": "x3vln5ryoW-V"
      },
      "source": [
        "def func(a,b,c):\n",
        "    print(a,b,c)\n",
        "func(1,2,3)"
      ],
      "execution_count": null,
      "outputs": []
    },
    {
      "cell_type": "code",
      "metadata": {
        "id": "p2_K8_NwoW-X"
      },
      "source": [
        "def func(a,b='two',c='tree'):\n",
        "    print(a,b,c)\n",
        "func(1)"
      ],
      "execution_count": null,
      "outputs": []
    },
    {
      "cell_type": "code",
      "metadata": {
        "id": "A9NgOzs8oW-Y"
      },
      "source": [
        "def func(a,b,c):\n",
        "    print(a,b,c)\n",
        "func(b=2, c=3, a='one')"
      ],
      "execution_count": null,
      "outputs": []
    },
    {
      "cell_type": "code",
      "metadata": {
        "id": "JduCtTmRoW-Z"
      },
      "source": [
        "def func(*args):\n",
        "    print(args)\n",
        "    a = args[0]\n",
        "    b = args[1]\n",
        "    c = args[2]\n",
        "    print(a,b,c)\n",
        "func('one', 2, 3)"
      ],
      "execution_count": null,
      "outputs": []
    },
    {
      "cell_type": "code",
      "metadata": {
        "id": "mfs1ajraoW-b"
      },
      "source": [
        "def func(**kwargs):\n",
        "    print(kwargs)\n",
        "    a = kwargs['a']\n",
        "    b = kwargs['b']\n",
        "    c = kwargs['c']\n",
        "    print(a,b,c)\n",
        "func(b=2, c=3, a='one')"
      ],
      "execution_count": null,
      "outputs": []
    },
    {
      "cell_type": "code",
      "metadata": {
        "id": "Tw8TUFntoW-c"
      },
      "source": [
        "def func(**kwargs):\n",
        "    print(kwargs)\n",
        "    for key, value in kwargs.items():\n",
        "        print(\"{} is {}\".format(key, value))\n",
        "func(b=2, c=3, a='one')"
      ],
      "execution_count": null,
      "outputs": []
    },
    {
      "cell_type": "markdown",
      "metadata": {
        "id": "1ofANe_-pE5c"
      },
      "source": [
        "## Задание"
      ]
    },
    {
      "cell_type": "markdown",
      "metadata": {
        "collapsed": true,
        "id": "hVzby8HCoW-e"
      },
      "source": [
        "Задание light: \n",
        "Взять длинный текстовый файл, посчитать статистику: средняя длинна предложения, средняя длинна слова, частота буквы: количество буквы ‘a’ ‘b’ ‘c’ и т.д., деленное на количество слов. Записать результат в файл.\n",
        "\n",
        "Задание pro: \n",
        "Разбить текст на предложения и использовать массив предложений для приема кросс-валидация. Разбить на обучающую и тестовую k раз случайным образом и вывести статистику для каждого k. Сильно ли отличается статистика между итерациями кросс-валидации (средние и std для каждого параметра между обучающей и тестовой выборкой и между обучаю выборками для итераций)? А для короткого файла? \n",
        "Кросс-валидацию можно сделать генератором, возвращающим обучающую и тестовую выборки. Можно сделать класс в отдельном модуле.\n",
        "https://en.wikipedia.org/wiki/Cross-validation_(statistics)#/media/File:K-fold_cross_validation_EN.jpg\n"
      ]
    },
    {
      "cell_type": "code",
      "metadata": {
        "id": "V1kQacHaoW-g"
      },
      "source": [
        "import numpy as np\n",
        "print (np.mean([0,12,3,4]))\n",
        "print (np.std([0,12,3,4]))"
      ],
      "execution_count": null,
      "outputs": []
    }
  ]
}